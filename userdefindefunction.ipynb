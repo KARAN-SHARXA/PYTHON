{
 "cells": [
  {
   "cell_type": "markdown",
   "id": "16ec7d83-73c2-4773-9459-18193ed888ff",
   "metadata": {},
   "source": [
    "# user defined function are the function which are defined by our self it is called user defined function\n"
   ]
  },
  {
   "cell_type": "code",
   "execution_count": 3,
   "id": "44c7bf94-6adf-4f67-b98b-e98475e8af6f",
   "metadata": {},
   "outputs": [
    {
     "name": "stdout",
     "output_type": "stream",
     "text": [
      "hello karan\n"
     ]
    }
   ],
   "source": [
    "def my_function():\n",
    "    print(\"hello karan\")\n",
    "\n",
    "my_function()"
   ]
  },
  {
   "cell_type": "code",
   "execution_count": 4,
   "id": "412cb773-d748-45bb-bca4-b44e8b6b73c0",
   "metadata": {},
   "outputs": [],
   "source": [
    "# makig a result of student of a student\n",
    "\n",
    "def contact():\n",
    "    print(\"contact details of the scchool\")\n",
    "    print(\"dps\")\n",
    "    print(\"banglore\")\n",
    "    print(\"23267283\")\n",
    "    print(\"karansharma202005@gmail.com\")"
   ]
  },
  {
   "cell_type": "code",
   "execution_count": 5,
   "id": "374516aa-75e0-4032-adde-4aa80b83d163",
   "metadata": {},
   "outputs": [
    {
     "name": "stdin",
     "output_type": "stream",
     "text": [
      "Name of the student  karan sharma\n",
      "enter the marks of a student 55\n",
      "enter the marks of science 33\n",
      "enter the marks of social 33\n"
     ]
    },
    {
     "name": "stdout",
     "output_type": "stream",
     "text": [
      "\n",
      "contact details of the scchool\n",
      "dps\n",
      "banglore\n",
      "23267283\n",
      "karansharma202005@gmail.com\n"
     ]
    },
    {
     "name": "stdin",
     "output_type": "stream",
     "text": [
      "Name of the student  rahul\n",
      "enter the marks of a student 33\n",
      "enter the marks of science 33\n",
      "enter the marks of social 33\n"
     ]
    },
    {
     "name": "stdout",
     "output_type": "stream",
     "text": [
      "\n",
      "contact details of the scchool\n",
      "dps\n",
      "banglore\n",
      "23267283\n",
      "karansharma202005@gmail.com\n"
     ]
    },
    {
     "name": "stdin",
     "output_type": "stream",
     "text": [
      "Name of the student  rajib\n",
      "enter the marks of a student 55\n",
      "enter the marks of science 55\n",
      "enter the marks of social 55\n"
     ]
    },
    {
     "name": "stdout",
     "output_type": "stream",
     "text": [
      "\n",
      "contact details of the scchool\n",
      "dps\n",
      "banglore\n",
      "23267283\n",
      "karansharma202005@gmail.com\n"
     ]
    },
    {
     "name": "stdin",
     "output_type": "stream",
     "text": [
      "Name of the student  5\n",
      "enter the marks of a student 5\n",
      "enter the marks of science 5\n",
      "enter the marks of social 5\n"
     ]
    },
    {
     "name": "stdout",
     "output_type": "stream",
     "text": [
      "\n",
      "contact details of the scchool\n",
      "dps\n",
      "banglore\n",
      "23267283\n",
      "karansharma202005@gmail.com\n"
     ]
    }
   ],
   "source": [
    "for i in range(4):\n",
    "    a=input(\"Name of the student \")\n",
    "    b=int(input(\"enter the marks of a student\"))\n",
    "    c=int(input(\"enter the marks of science\"))\n",
    "    d=int(input(\"enter the marks of social\"))\n",
    "    print()\n",
    "    contact() "
   ]
  },
  {
   "cell_type": "code",
   "execution_count": 6,
   "id": "7c987eeb-4e2b-4ac9-a390-0a5de8a33707",
   "metadata": {},
   "outputs": [
    {
     "name": "stdout",
     "output_type": "stream",
     "text": [
      "karan sharma\n"
     ]
    }
   ],
   "source": [
    "# arguments\n",
    "\n",
    "def my_function(fname):\n",
    "    print(fname + \" sharma\")\n",
    "my_function(\"karan\")"
   ]
  },
  {
   "cell_type": "code",
   "execution_count": 7,
   "id": "47c998c2-c001-40da-9d37-22d3fd231b2f",
   "metadata": {},
   "outputs": [
    {
     "name": "stdout",
     "output_type": "stream",
     "text": [
      "karan  sharma\n"
     ]
    }
   ],
   "source": [
    "def my_function(fname,iname):\n",
    "    print(fname+ \" \" + iname)\n",
    "my_function(\"karan\" ,\" sharma\")"
   ]
  },
  {
   "cell_type": "code",
   "execution_count": 9,
   "id": "464e661c-e298-4278-a6c9-b96b126301fc",
   "metadata": {},
   "outputs": [
    {
     "name": "stdin",
     "output_type": "stream",
     "text": [
      "enter the name of customer karan\n",
      "enter the unit of electricityyou have need 555\n"
     ]
    },
    {
     "name": "stdout",
     "output_type": "stream",
     "text": [
      "your bill is rs 5550\n"
     ]
    },
    {
     "name": "stdin",
     "output_type": "stream",
     "text": [
      "enter the name of customer 666\n",
      "enter the unit of electricityyou have need 343\n"
     ]
    },
    {
     "name": "stdout",
     "output_type": "stream",
     "text": [
      "your bill is Rs 1715\n"
     ]
    },
    {
     "name": "stdin",
     "output_type": "stream",
     "text": [
      "enter the name of customer 12\n",
      "enter the unit of electricityyou have need 44\n"
     ]
    },
    {
     "name": "stdout",
     "output_type": "stream",
     "text": [
      "your bill is Rs 220\n"
     ]
    }
   ],
   "source": [
    "# write a progrma to calculate the electricity bill\n",
    "\n",
    "\n",
    "def electricity_bill(n):\n",
    "    if n<=500:\n",
    "        print(\"your bill is Rs\",n*5)\n",
    "    elif n>500 and n<=700:\n",
    "        print(\"your bill is rs\",n*10)\n",
    "    elif n>700 and n<=1000:\n",
    "        print(\"your bill is Rs\", n*15)\n",
    "    elif n>1000:\n",
    "        print(\"your bill is Rs\", n*20)\n",
    "\n",
    "for i in range(3):\n",
    "    a=input(\"enter the name of customer\")\n",
    "    n=int(input(\"enter the unit of electricityyou have need\"))\n",
    "    electricity_bill(n)\n",
    "    "
   ]
  },
  {
   "cell_type": "code",
   "execution_count": null,
   "id": "63f2b83f-9f2f-47f4-aef6-98586b07ba18",
   "metadata": {},
   "outputs": [],
   "source": []
  }
 ],
 "metadata": {
  "kernelspec": {
   "display_name": "Python 3 (ipykernel)",
   "language": "python",
   "name": "python3"
  },
  "language_info": {
   "codemirror_mode": {
    "name": "ipython",
    "version": 3
   },
   "file_extension": ".py",
   "mimetype": "text/x-python",
   "name": "python",
   "nbconvert_exporter": "python",
   "pygments_lexer": "ipython3",
   "version": "3.13.3"
  }
 },
 "nbformat": 4,
 "nbformat_minor": 5
}
