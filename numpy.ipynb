{
 "cells": [
  {
   "cell_type": "markdown",
   "id": "6179c3b7-665d-4d4b-a895-9c4ad1f855e0",
   "metadata": {},
   "source": [
    "# numpy (numerical python)"
   ]
  },
  {
   "cell_type": "code",
   "execution_count": 1,
   "id": "0687308e-198f-46bd-8d41-51638b058a67",
   "metadata": {},
   "outputs": [],
   "source": [
    "import numpy as np"
   ]
  },
  {
   "cell_type": "code",
   "execution_count": 3,
   "id": "458d28d3-7173-4240-8e21-d1de73c2fca0",
   "metadata": {},
   "outputs": [
    {
     "name": "stdout",
     "output_type": "stream",
     "text": [
      "[1 2 3 4 5 6]\n",
      "<class 'numpy.ndarray'>\n"
     ]
    }
   ],
   "source": [
    "arr=np.array([1,2,3,4,5,6])\n",
    "print(arr)\n",
    "print(type(arr))"
   ]
  },
  {
   "cell_type": "code",
   "execution_count": 4,
   "id": "8945ae2f-d8b0-4a1d-9fa6-5637f72f56a4",
   "metadata": {},
   "outputs": [
    {
     "name": "stdout",
     "output_type": "stream",
     "text": [
      "[1 2 3 4]\n",
      "<class 'numpy.ndarray'>\n"
     ]
    }
   ],
   "source": [
    "arr=np.array((1,2,3,4))\n",
    "print(arr)\n",
    "print(type(arr))"
   ]
  },
  {
   "cell_type": "markdown",
   "id": "25c21087-9b83-4727-84a4-ec99fef9f165",
   "metadata": {},
   "source": [
    "# dimensions in array"
   ]
  },
  {
   "cell_type": "code",
   "execution_count": 5,
   "id": "b157c8db-c56d-4745-a2bd-aeac0bbfb638",
   "metadata": {},
   "outputs": [
    {
     "name": "stdout",
     "output_type": "stream",
     "text": [
      "[1 2 3 4]\n",
      "1\n"
     ]
    }
   ],
   "source": [
    "# 1d\n",
    "arr=np.array([1,2,3,4])\n",
    "print(arr)\n",
    "print(arr.ndim)"
   ]
  },
  {
   "cell_type": "code",
   "execution_count": 8,
   "id": "640f9507-dda6-491c-8f95-291f28b43a32",
   "metadata": {},
   "outputs": [
    {
     "name": "stdout",
     "output_type": "stream",
     "text": [
      "[[1 2 3]\n",
      " [4 5 6]]\n",
      "2\n"
     ]
    }
   ],
   "source": [
    "#2d array\n",
    "arr=np.array([[1,2,3],[4,5,6]])\n",
    "print(arr)\n",
    "print(arr.ndim)"
   ]
  },
  {
   "cell_type": "code",
   "execution_count": 9,
   "id": "4018f156-08d8-4c27-9ff6-fc478bd852a8",
   "metadata": {},
   "outputs": [
    {
     "name": "stdout",
     "output_type": "stream",
     "text": [
      "[[[1 2 3]\n",
      "  [4 5 6]\n",
      "  [7 8 9]]]\n"
     ]
    }
   ],
   "source": [
    "# 3d\n",
    "arr=np.array([[[1,2,3],[4,5,6],[7,8,9]]])\n",
    "print(arr)"
   ]
  },
  {
   "cell_type": "code",
   "execution_count": 10,
   "id": "22a96bd4-d352-4d66-b34e-30cfc8820a77",
   "metadata": {},
   "outputs": [
    {
     "name": "stdout",
     "output_type": "stream",
     "text": [
      "1\n"
     ]
    }
   ],
   "source": [
    "arr=np.array([1,2,3,4])\n",
    "print(arr[0])"
   ]
  },
  {
   "cell_type": "code",
   "execution_count": 12,
   "id": "25d62c62-4eb6-4f4a-9636-173a2d23c7fd",
   "metadata": {},
   "outputs": [
    {
     "name": "stdout",
     "output_type": "stream",
     "text": [
      "2\n",
      "6\n"
     ]
    }
   ],
   "source": [
    "arr=np.array([[1,2,3],[4,5,6]])\n",
    "print(arr[0,1])\n",
    "print(arr[0,0]+arr[1,1])"
   ]
  },
  {
   "cell_type": "code",
   "execution_count": 13,
   "id": "08503a14-e3e1-4afe-a9e6-657547131c99",
   "metadata": {},
   "outputs": [
    {
     "name": "stdout",
     "output_type": "stream",
     "text": [
      "5\n"
     ]
    }
   ],
   "source": [
    "arr=np.array([[[1,2,3],[4,5,6]],\n",
    "              [[7,8,9],[10,11,12]]])\n",
    "print(arr[0,1,1])"
   ]
  },
  {
   "cell_type": "code",
   "execution_count": 15,
   "id": "f5a6d9e2-7564-4f2e-abe0-4b8f8cc51cf1",
   "metadata": {},
   "outputs": [
    {
     "name": "stdout",
     "output_type": "stream",
     "text": [
      "[2 4]\n"
     ]
    }
   ],
   "source": [
    "import numpy as np\n",
    "arr=np.array([1,2,3,4])\n",
    "print(arr[1:5:2])"
   ]
  },
  {
   "cell_type": "code",
   "execution_count": 20,
   "id": "c5bb4fb1-a314-4078-9cb6-f9887ec66872",
   "metadata": {},
   "outputs": [
    {
     "name": "stdout",
     "output_type": "stream",
     "text": [
      "[10 20 30]\n"
     ]
    }
   ],
   "source": [
    "import numpy as np\n",
    "a=np.array([[10,20,30,40],[60,70,80,90]])\n",
    "print(a[0,0:3])"
   ]
  },
  {
   "cell_type": "code",
   "execution_count": 47,
   "id": "02c6db8c-7e2d-4fab-88a1-d90fc1feca11",
   "metadata": {},
   "outputs": [
    {
     "name": "stdout",
     "output_type": "stream",
     "text": [
      "[1 2 3 4]\n",
      "5\n",
      "(2, 2, 4)\n"
     ]
    }
   ],
   "source": [
    "import numpy as np\n",
    "a=np.array([\n",
    "    [[1,2,3,4],[5,6,7,7]],\n",
    "    [[5,6,7,8],[4,3,2,1]]\n",
    "])\n",
    "print(a[0,0,0:4])\n",
    "print(a[1,0,0])\n",
    "print(a.shape)"
   ]
  },
  {
   "cell_type": "markdown",
   "id": "9b99a0c7-853b-4eda-8cea-4e3a556a7fc2",
   "metadata": {},
   "source": [
    "# checkig the data type of an array"
   ]
  },
  {
   "cell_type": "code",
   "execution_count": 23,
   "id": "d8c3dbe2-a750-4a50-b637-a0b86bafada7",
   "metadata": {},
   "outputs": [
    {
     "name": "stdout",
     "output_type": "stream",
     "text": [
      "int64\n"
     ]
    }
   ],
   "source": [
    "arr=np.array([1,2,3,4])\n",
    "print(arr.dtype)"
   ]
  },
  {
   "cell_type": "code",
   "execution_count": 26,
   "id": "f5bdfc5c-db92-449d-ac07-3413cef3ccfa",
   "metadata": {},
   "outputs": [
    {
     "name": "stdout",
     "output_type": "stream",
     "text": [
      "[b'1' b'2' b'3']\n"
     ]
    }
   ],
   "source": [
    "arr=np.array([1,2,3],dtype='S')\n",
    "print(arr)"
   ]
  },
  {
   "cell_type": "code",
   "execution_count": 27,
   "id": "2103938d-c8b1-4005-bb51-5833be2303c0",
   "metadata": {},
   "outputs": [
    {
     "name": "stdout",
     "output_type": "stream",
     "text": [
      "(2, 3)\n"
     ]
    }
   ],
   "source": [
    "#numpy array shapea\n",
    "arr=np.array([[1,2,3],[4,5,6]])\n",
    "print(arr.shape)\n",
    "\n"
   ]
  },
  {
   "cell_type": "code",
   "execution_count": 31,
   "id": "e8883f0e-93d7-422a-aff9-e390ea69f9e5",
   "metadata": {},
   "outputs": [
    {
     "name": "stdout",
     "output_type": "stream",
     "text": [
      "[1 2 3 4 5 6]\n"
     ]
    }
   ],
   "source": [
    "# joining arrays\n",
    "arr1=np.array([1,2,3])\n",
    "arr2=np.array([4,5,6])\n",
    "arr=np.concatenate((arr1,arr2))\n",
    "print(arr)"
   ]
  },
  {
   "cell_type": "code",
   "execution_count": 48,
   "id": "aec06f74-99d0-4e4e-9985-11e5e5d6d723",
   "metadata": {},
   "outputs": [
    {
     "name": "stdout",
     "output_type": "stream",
     "text": [
      "[[1 2 3 0 9 8]\n",
      " [4 5 6 6 5 4]]\n",
      "[[1 2 3]\n",
      " [4 5 6]\n",
      " [0 9 8]\n",
      " [6 5 4]]\n"
     ]
    }
   ],
   "source": [
    "arr1=np.array([[1,2,3],[4,5,6]])\n",
    "arr2=np.array([[0,9,8],[6,5,4]])\n",
    "arr=np.concatenate((arr1,arr2) ,axis=1)\n",
    "arr3=np.concatenate((arr1,arr2),axis=0)\n",
    "print(arr)\n",
    "print(arr3)"
   ]
  },
  {
   "cell_type": "code",
   "execution_count": 38,
   "id": "d8b107c9-51ed-4cfa-9fc4-7a0028da9515",
   "metadata": {},
   "outputs": [
    {
     "name": "stdout",
     "output_type": "stream",
     "text": [
      "[[[1 2 3]\n",
      "  [4 5 6]]\n",
      "\n",
      " [[5 6 7]\n",
      "  [8 7 6]]]\n",
      "[1 2 3 4 5 6 5 6 7 8 7 6]\n",
      "1\n"
     ]
    }
   ],
   "source": [
    "# ravela nand flater\n",
    "#converting multiple d array in 1d array\n",
    "\n",
    "m=np.array([\n",
    "    [[1,2,3],[4,5,6]],\n",
    "    [[5,6,7],[8,7,6]]\n",
    "])\n",
    "print(m)\n",
    "n=m.ravel()\n",
    "print(n)\n",
    "print(n.ndim)"
   ]
  },
  {
   "cell_type": "code",
   "execution_count": 50,
   "id": "b660a06c-b3df-4a1e-9d29-622cf5079dd5",
   "metadata": {},
   "outputs": [
    {
     "name": "stdout",
     "output_type": "stream",
     "text": [
      "[ 1  2  3  4  5  6  7  8  9 12 56]\n"
     ]
    }
   ],
   "source": [
    "#unique function\n",
    "k=np.array([12,1,2,1,3,4,5,5,56,6,6,7,8,9,9,1,1,1])\n",
    "m=np.unique(k)\n",
    "print(m)"
   ]
  },
  {
   "cell_type": "code",
   "execution_count": 41,
   "id": "20f56111-7cde-4648-a6f9-64237b806a66",
   "metadata": {},
   "outputs": [
    {
     "name": "stdout",
     "output_type": "stream",
     "text": [
      "[12 14]\n"
     ]
    }
   ],
   "source": [
    "#delete\n",
    "a=np.array([12,13,14])\n",
    "d=np.delete(a,[1])\n",
    "print(d)"
   ]
  },
  {
   "cell_type": "code",
   "execution_count": 43,
   "id": "1ac8f6f0-80c0-4d9a-a076-59764bc2b58c",
   "metadata": {},
   "outputs": [
    {
     "name": "stdout",
     "output_type": "stream",
     "text": [
      "[1 3 4 5 6]\n"
     ]
    }
   ],
   "source": [
    "x=np.array([[1,2,3],[4,5,6]])\n",
    "d=np.delete(x,[1,1])\n",
    "print(d)"
   ]
  }
 ],
 "metadata": {
  "kernelspec": {
   "display_name": "Python 3 (ipykernel)",
   "language": "python",
   "name": "python3"
  },
  "language_info": {
   "codemirror_mode": {
    "name": "ipython",
    "version": 3
   },
   "file_extension": ".py",
   "mimetype": "text/x-python",
   "name": "python",
   "nbconvert_exporter": "python",
   "pygments_lexer": "ipython3",
   "version": "3.13.3"
  }
 },
 "nbformat": 4,
 "nbformat_minor": 5
}
