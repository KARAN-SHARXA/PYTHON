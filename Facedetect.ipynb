{
 "cells": [
  {
   "cell_type": "markdown",
   "id": "88e52673-53b1-4a0b-91bb-1024d21c0bd3",
   "metadata": {},
   "source": [
    "# FaceMoodCam  – A camera that sees your mood."
   ]
  },
  {
   "cell_type": "code",
   "execution_count": 13,
   "id": "a7a6c691-59f9-40ef-a2f3-d64b5dfa8c73",
   "metadata": {},
   "outputs": [
    {
     "name": "stdout",
     "output_type": "stream",
     "text": [
      "Press 'h' for Happy 🙂 | 's' for Sad 😢 | 'q' to Quit\n"
     ]
    }
   ],
   "source": [
    "import cv2\n",
    "\n",
    "# Load Haar cascade for face detection\n",
    "face_cascade = cv2.CascadeClassifier(cv2.data.haarcascades + \"haarcascade_frontalface_default.xml\")\n",
    "\n",
    "# Start webcam\n",
    "video_cap = cv2.VideoCapture(0)\n",
    "\n",
    "print(\"Press 'h' for Happy 🙂 | 's' for Sad 😢 | 'q' to Quit\")\n",
    "\n",
    "# Default emotion\n",
    "emotion = \"🙂\"\n",
    "\n",
    "while True:\n",
    "    ret, frame = video_cap.read()\n",
    "    if not ret:\n",
    "        break\n",
    "\n",
    "    # Convert to grayscale for face detection\n",
    "    gray = cv2.cvtColor(frame, cv2.COLOR_BGR2GRAY)\n",
    "\n",
    "    # Detect faces\n",
    "    faces = face_cascade.detectMultiScale(gray, scaleFactor=1.1, minNeighbors=5)\n",
    "\n",
    "    # Draw rectangle and emoji for each face\n",
    "    for (x, y, w, h) in faces:\n",
    "        # Draw rectangle around face\n",
    "        cv2.rectangle(frame, (x, y), (x + w, y + h), (0, 255, 0), 2)\n",
    "        # Put emotion emoji above face\n",
    "        cv2.putText(frame, emotion, (x + 10, y - 10),\n",
    "                    cv2.FONT_HERSHEY_SIMPLEX, 1.5, (0, 255, 255), 3)\n",
    "\n",
    "    # Display instructions\n",
    "    cv2.putText(frame, \"Press 'h' (happy) | 's' (sad) | 'q' (quit)\",\n",
    "                (10, 30), cv2.FONT_HERSHEY_SIMPLEX, 0.7, (255, 255, 255), 2)\n",
    "\n",
    "    cv2.imshow(\"Face & Emotion Detector\", frame)\n",
    "\n",
    "    key = cv2.waitKey(1)\n",
    "\n",
    "    if key == ord('h'):\n",
    "        emotion = \"🙂\"\n",
    "    elif key == ord('s'):\n",
    "        emotion = \"😢\"\n",
    "    elif key == ord('q'):\n",
    "        break\n",
    "\n",
    "video_cap.release()\n",
    "cv2.destroyAllWindows()\n",
    "\n",
    "\n",
    "    "
   ]
  },
  {
   "cell_type": "code",
   "execution_count": null,
   "id": "c4d6fd93-1f08-4577-82cf-86e6aacc3648",
   "metadata": {},
   "outputs": [],
   "source": []
  }
 ],
 "metadata": {
  "kernelspec": {
   "display_name": "Python 3 (ipykernel)",
   "language": "python",
   "name": "python3"
  },
  "language_info": {
   "codemirror_mode": {
    "name": "ipython",
    "version": 3
   },
   "file_extension": ".py",
   "mimetype": "text/x-python",
   "name": "python",
   "nbconvert_exporter": "python",
   "pygments_lexer": "ipython3",
   "version": "3.13.3"
  }
 },
 "nbformat": 4,
 "nbformat_minor": 5
}
