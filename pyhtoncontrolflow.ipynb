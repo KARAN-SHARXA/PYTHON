{
 "cells": [
  {
   "cell_type": "markdown",
   "id": "7e009608-b88f-4e2e-bfe5-7ddfeb46f490",
   "metadata": {},
   "source": [
    "# control flow"
   ]
  },
  {
   "cell_type": "code",
   "execution_count": 1,
   "id": "e2da3a82-34df-4930-8eaa-7017655dbfa5",
   "metadata": {},
   "outputs": [
    {
     "name": "stdin",
     "output_type": "stream",
     "text": [
      "enetr the name of student karan sharma\n",
      "eneter the marks scoredd in english 45\n",
      "eneter the marks scored in hindi 55\n",
      "eneter the marks scored in maths 55\n",
      "eneter the marks scored in science 67\n",
      "eneter the marks scored in social 55\n"
     ]
    },
    {
     "name": "stdout",
     "output_type": "stream",
     "text": [
      "the percenty scored by student in  55.400000000000006\n"
     ]
    }
   ],
   "source": [
    "x=input(\"enetr the name of student\")\n",
    "a=int(input(\"eneter the marks scoredd in english\"))\n",
    "b=int(input(\"eneter the marks scored in hindi\"))\n",
    "c=int(input(\"eneter the marks scored in maths\"))\n",
    "d=int(input(\"eneter the marks scored in science\"))\n",
    "e=int(input(\"eneter the marks scored in social\"))\n",
    "n=((a+b+c+d+e)/500)*100\n",
    "print(\"the percenty scored by student in \", n)"
   ]
  },
  {
   "cell_type": "code",
   "execution_count": 4,
   "id": "a9c8052b-a3f3-4c6f-ba45-755221ea0b96",
   "metadata": {},
   "outputs": [
    {
     "name": "stdin",
     "output_type": "stream",
     "text": [
      "eneter the precnetage scored by a student 55.55\n"
     ]
    },
    {
     "name": "stdout",
     "output_type": "stream",
     "text": [
      "pd liya kar bache tu fail hai\n"
     ]
    }
   ],
   "source": [
    "a=float(input(\"eneter the precnetage scored by a student\"))\n",
    "if a>=90:\n",
    "    print(\"A grade\")\n",
    "if a>=75 and a<90:\n",
    "    print(\"b grade\")\n",
    "if a>=65 and a<75:\n",
    "    print(\"c grade\")\n",
    "if a>=50 and a<65:\n",
    "    print(\"pd liya kar bache tu fail hai\")"
   ]
  },
  {
   "cell_type": "code",
   "execution_count": 5,
   "id": "d6425deb-2153-44e0-beb9-88003fcba9fb",
   "metadata": {},
   "outputs": [
    {
     "name": "stdin",
     "output_type": "stream",
     "text": [
      "enetr the number 5\n"
     ]
    },
    {
     "name": "stdout",
     "output_type": "stream",
     "text": [
      "hello\n"
     ]
    }
   ],
   "source": [
    "# if else\n",
    "a=int(input(\"enetr the number\"))\n",
    "if a%5==0:\n",
    "    print(\"hello\")\n",
    "else:\n",
    "    print(\"bye\")"
   ]
  },
  {
   "cell_type": "code",
   "execution_count": 6,
   "id": "8e19013b-ad35-4df2-81ae-363126dcb07e",
   "metadata": {},
   "outputs": [
    {
     "name": "stdin",
     "output_type": "stream",
     "text": [
      "enetr the number 7\n"
     ]
    },
    {
     "name": "stdout",
     "output_type": "stream",
     "text": [
      "positive number\n"
     ]
    }
   ],
   "source": [
    "a=int(input(\"enetr the number\"))\n",
    "if a>0:\n",
    "    print(\"positive number\")\n",
    "else:\n",
    "    print(\"negative numbe\")"
   ]
  },
  {
   "cell_type": "code",
   "execution_count": 7,
   "id": "7f0ec067-00e4-47b9-b73e-e18b805aad97",
   "metadata": {},
   "outputs": [
    {
     "name": "stdin",
     "output_type": "stream",
     "text": [
      "enetr the city himachal\n"
     ]
    },
    {
     "name": "stdout",
     "output_type": "stream",
     "text": [
      "no recodfound\n"
     ]
    }
   ],
   "source": [
    "#if 🧝‍♂️\n",
    "city=input(\"enetr the city\")\n",
    "if city==\"Delhi\":\n",
    "    print(\"redfort\")\n",
    "elif city==\"Agra\":\n",
    "    print(\"tajmehal\")\n",
    "elif city==\"jaipur\":\n",
    "    print(\"jalmehal\")\n",
    "else:\n",
    "    print(\"no recodfound\")\n"
   ]
  },
  {
   "cell_type": "code",
   "execution_count": null,
   "id": "d31b7727-43d9-49be-b299-303695b4da14",
   "metadata": {},
   "outputs": [],
   "source": []
  }
 ],
 "metadata": {
  "kernelspec": {
   "display_name": "Python 3 (ipykernel)",
   "language": "python",
   "name": "python3"
  },
  "language_info": {
   "codemirror_mode": {
    "name": "ipython",
    "version": 3
   },
   "file_extension": ".py",
   "mimetype": "text/x-python",
   "name": "python",
   "nbconvert_exporter": "python",
   "pygments_lexer": "ipython3",
   "version": "3.13.3"
  }
 },
 "nbformat": 4,
 "nbformat_minor": 5
}
