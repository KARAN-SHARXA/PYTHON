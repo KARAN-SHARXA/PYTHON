{
 "cells": [
  {
   "cell_type": "markdown",
   "id": "532b8eb9-db6f-4ecf-8c6e-bfb5b6cf03f2",
   "metadata": {},
   "source": [
    "# loops in pyhton"
   ]
  },
  {
   "cell_type": "code",
   "execution_count": 1,
   "id": "3bad8fdd-0322-4a70-a91f-236010d50d11",
   "metadata": {},
   "outputs": [
    {
     "name": "stdout",
     "output_type": "stream",
     "text": [
      "hello\n",
      "hello\n",
      "hello\n",
      "hello\n",
      "hello\n"
     ]
    }
   ],
   "source": [
    "for i in range(5):\n",
    "    print(\"hello\")"
   ]
  },
  {
   "cell_type": "code",
   "execution_count": 2,
   "id": "429a6883-834a-4a3c-9fcc-26a4682777af",
   "metadata": {},
   "outputs": [
    {
     "name": "stdout",
     "output_type": "stream",
     "text": [
      "bye\n",
      "bye\n",
      "bye\n"
     ]
    }
   ],
   "source": [
    "i=1\n",
    "while i<=3:\n",
    "    print(\"bye\")\n",
    "    i=i+1"
   ]
  },
  {
   "cell_type": "code",
   "execution_count": 3,
   "id": "c774f994-1304-4934-b99a-6fa9ad555ddd",
   "metadata": {},
   "outputs": [
    {
     "name": "stdout",
     "output_type": "stream",
     "text": [
      "1\n",
      "2\n",
      "3\n",
      "4\n",
      "5\n",
      "6\n",
      "7\n",
      "8\n",
      "9\n",
      "10\n"
     ]
    }
   ],
   "source": [
    "for i in range(1,11):\n",
    "    print(i)"
   ]
  },
  {
   "cell_type": "code",
   "execution_count": 6,
   "id": "954c3f9d-5ee2-402c-8b60-3da6ac9f2a2f",
   "metadata": {},
   "outputs": [
    {
     "name": "stdout",
     "output_type": "stream",
     "text": [
      "2\n",
      "4\n",
      "6\n",
      "8\n",
      "10\n",
      "12\n",
      "14\n",
      "16\n",
      "18\n",
      "20\n"
     ]
    }
   ],
   "source": [
    "i=2\n",
    "while(i<=20):\n",
    "    print(i)\n",
    "    i=i+2"
   ]
  },
  {
   "cell_type": "code",
   "execution_count": 7,
   "id": "148f1825-77df-4747-84cc-5bb63426a96a",
   "metadata": {},
   "outputs": [
    {
     "name": "stdout",
     "output_type": "stream",
     "text": [
      "hello karan\n",
      "hello karan\n",
      "hello karan\n",
      "hello karan\n",
      "hello karan\n"
     ]
    }
   ],
   "source": [
    "for i in range(5):\n",
    "    print(\"hello karan\")"
   ]
  },
  {
   "cell_type": "code",
   "execution_count": 8,
   "id": "1dfbee0d-7fce-4a26-878f-283e8715e3dc",
   "metadata": {},
   "outputs": [
    {
     "name": "stdout",
     "output_type": "stream",
     "text": [
      "10\n",
      "9\n",
      "8\n",
      "7\n",
      "6\n",
      "5\n",
      "4\n",
      "3\n",
      "2\n",
      "1\n"
     ]
    }
   ],
   "source": [
    "for i in range(10,0,-1):\n",
    "    print(i)"
   ]
  },
  {
   "cell_type": "code",
   "execution_count": 9,
   "id": "fbe8952b-1292-4a72-9cf3-eac32b4b28b7",
   "metadata": {},
   "outputs": [
    {
     "name": "stdout",
     "output_type": "stream",
     "text": [
      "1\n",
      "4\n",
      "9\n",
      "16\n",
      "25\n"
     ]
    }
   ],
   "source": [
    "for i in range(1,6):\n",
    "    print(i*i)"
   ]
  },
  {
   "cell_type": "code",
   "execution_count": 10,
   "id": "5406b445-47ef-4bed-ab98-aaedfd671c0a",
   "metadata": {},
   "outputs": [
    {
     "name": "stdout",
     "output_type": "stream",
     "text": [
      "* \n",
      "* * \n",
      "* * * \n",
      "* * * * \n"
     ]
    }
   ],
   "source": [
    "for i in range(1,5):\n",
    "    print(\"* \"*i)"
   ]
  },
  {
   "cell_type": "code",
   "execution_count": 11,
   "id": "f7744191-f64f-401d-b1e4-c43903d546b4",
   "metadata": {},
   "outputs": [
    {
     "name": "stdout",
     "output_type": "stream",
     "text": [
      "1 it is odd\n",
      "2 it is even number\n",
      "3 it is odd\n",
      "4 it is even number\n",
      "5 it is odd\n",
      "6 it is even number\n",
      "7 it is odd\n",
      "8 it is even number\n",
      "9 it is odd\n",
      "10 it is even number\n",
      "11 it is odd\n",
      "12 it is even number\n",
      "13 it is odd\n",
      "14 it is even number\n",
      "15 it is odd\n",
      "16 it is even number\n",
      "17 it is odd\n",
      "18 it is even number\n",
      "19 it is odd\n",
      "20 it is even number\n"
     ]
    }
   ],
   "source": [
    "for i in range(1,21):\n",
    "    if(i%2==0):\n",
    "        print(i,\"it is even number\")\n",
    "    else:\n",
    "        print(i,\"it is odd\")"
   ]
  },
  {
   "cell_type": "code",
   "execution_count": 12,
   "id": "6aef29ce-7be0-4a64-bc2a-70be22b8a11d",
   "metadata": {},
   "outputs": [
    {
     "name": "stdout",
     "output_type": "stream",
     "text": [
      "55\n"
     ]
    }
   ],
   "source": [
    "total=0\n",
    "for i in range(1,11):\n",
    "    total=total+i\n",
    "print(total)"
   ]
  },
  {
   "cell_type": "code",
   "execution_count": 15,
   "id": "8f238b56-b887-4d48-a767-c5524298a5db",
   "metadata": {},
   "outputs": [
    {
     "name": "stdin",
     "output_type": "stream",
     "text": [
      "enetr a number: 66666\n"
     ]
    },
    {
     "name": "stdout",
     "output_type": "stream",
     "text": [
      "5\n",
      "<class 'int'>\n"
     ]
    }
   ],
   "source": [
    "num=int(input(\"enetr a number:\"))\n",
    "count=0\n",
    "for i in str(num):\n",
    "    count=count+1\n",
    "print(int(count))\n",
    "print(type(count))\n"
   ]
  },
  {
   "cell_type": "code",
   "execution_count": 17,
   "id": "9e09ffe0-8fb6-4dc5-aeab-9dcf5a3faacd",
   "metadata": {},
   "outputs": [
    {
     "name": "stdin",
     "output_type": "stream",
     "text": [
      "enter a number:  6\n"
     ]
    },
    {
     "name": "stdout",
     "output_type": "stream",
     "text": [
      "6 X 1 =6\n",
      "6 X 2 =12\n",
      "6 X 3 =18\n",
      "6 X 4 =24\n",
      "6 X 5 =30\n",
      "6 X 6 =36\n",
      "6 X 7 =42\n",
      "6 X 8 =48\n",
      "6 X 9 =54\n",
      "6 X 10 =60\n"
     ]
    }
   ],
   "source": [
    "num=int(input(\"enter a number: \"))\n",
    "\n",
    "for i in range(1,11):\n",
    "    print(f\"{num} X {i} ={num*i}\")"
   ]
  },
  {
   "cell_type": "code",
   "execution_count": 18,
   "id": "4c5edbc7-2ce9-4823-a306-0da0810c1f88",
   "metadata": {},
   "outputs": [
    {
     "name": "stdin",
     "output_type": "stream",
     "text": [
      "enetr a number: 5\n"
     ]
    },
    {
     "name": "stdout",
     "output_type": "stream",
     "text": [
      "120\n"
     ]
    }
   ],
   "source": [
    "num=int(input(\"enetr a number:\"))\n",
    "fact=1\n",
    "\n",
    "for i in range(1,num+1):\n",
    "    fact = fact * i\n",
    "print(fact)"
   ]
  },
  {
   "cell_type": "code",
   "execution_count": 1,
   "id": "06ec7cbe-69ba-4b5b-a2c1-18da1669063a",
   "metadata": {},
   "outputs": [
    {
     "name": "stdout",
     "output_type": "stream",
     "text": [
      "1\n",
      "2\n"
     ]
    }
   ],
   "source": [
    "for i in range(1,6):\n",
    "    if i==3:\n",
    "        break\n",
    "    print(i)"
   ]
  },
  {
   "cell_type": "code",
   "execution_count": 2,
   "id": "c5104525-ac65-46b5-b67d-e7865ed56be6",
   "metadata": {},
   "outputs": [
    {
     "name": "stdout",
     "output_type": "stream",
     "text": [
      "1\n",
      "2\n",
      "4\n",
      "5\n"
     ]
    }
   ],
   "source": [
    "for i in range(1, 6):\n",
    "    if i == 3:\n",
    "        continue\n",
    "    print(i)\n"
   ]
  },
  {
   "cell_type": "code",
   "execution_count": null,
   "id": "c4f79d77-bc61-4e28-9790-30c287020e32",
   "metadata": {},
   "outputs": [],
   "source": []
  }
 ],
 "metadata": {
  "kernelspec": {
   "display_name": "Python 3 (ipykernel)",
   "language": "python",
   "name": "python3"
  },
  "language_info": {
   "codemirror_mode": {
    "name": "ipython",
    "version": 3
   },
   "file_extension": ".py",
   "mimetype": "text/x-python",
   "name": "python",
   "nbconvert_exporter": "python",
   "pygments_lexer": "ipython3",
   "version": "3.13.3"
  }
 },
 "nbformat": 4,
 "nbformat_minor": 5
}
