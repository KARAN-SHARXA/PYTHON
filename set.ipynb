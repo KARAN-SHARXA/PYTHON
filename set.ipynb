{
 "cells": [
  {
   "cell_type": "code",
   "execution_count": 1,
   "id": "304dbdcf-f3e6-4fe6-9b2e-fb1c09c68e24",
   "metadata": {},
   "outputs": [
    {
     "name": "stdout",
     "output_type": "stream",
     "text": [
      "{1, 2, 3, 4, 5}\n"
     ]
    }
   ],
   "source": [
    "my_sets={1,2,3,4,5}\n",
    "print(my_sets)"
   ]
  },
  {
   "cell_type": "code",
   "execution_count": 3,
   "id": "27b0df36-fb12-47fb-995c-8de597e4a58b",
   "metadata": {},
   "outputs": [
    {
     "name": "stdout",
     "output_type": "stream",
     "text": [
      "{1, 2, 3, 4, 5, 6}\n"
     ]
    }
   ],
   "source": [
    "my_sets.add(6)\n",
    "print(my_sets)"
   ]
  },
  {
   "cell_type": "code",
   "execution_count": 4,
   "id": "16787abd-4c42-4455-9f02-d23bfc573e2f",
   "metadata": {},
   "outputs": [
    {
     "name": "stdout",
     "output_type": "stream",
     "text": [
      "{1, 2, 3, 4, 5, 6, 7, 8}\n"
     ]
    }
   ],
   "source": [
    "my_sets.update([6,7,8])\n",
    "print(my_sets)"
   ]
  },
  {
   "cell_type": "code",
   "execution_count": 5,
   "id": "b5537774-f8ec-4d22-8315-75858b47b1a3",
   "metadata": {},
   "outputs": [
    {
     "name": "stdout",
     "output_type": "stream",
     "text": [
      "{1, 3, 4, 5, 6, 7, 8}\n"
     ]
    }
   ],
   "source": [
    "my_sets.remove(2)\n",
    "print(my_sets)"
   ]
  },
  {
   "cell_type": "code",
   "execution_count": 7,
   "id": "d09c3fb5-ed28-42ec-aa81-c0d224b4f367",
   "metadata": {},
   "outputs": [
    {
     "name": "stdout",
     "output_type": "stream",
     "text": [
      "{1, 3, 4, 5, 6, 7, 8}\n"
     ]
    }
   ],
   "source": [
    "my_sets.discard(0)\n",
    "print(my_sets)"
   ]
  },
  {
   "cell_type": "code",
   "execution_count": 11,
   "id": "484efc9d-b38c-4776-bc48-8d6a6943d8ea",
   "metadata": {},
   "outputs": [
    {
     "name": "stdout",
     "output_type": "stream",
     "text": [
      "{1, 2, 3, 4, 5}\n",
      "{3}\n",
      "{1, 2}\n",
      "{1, 2, 4, 5}\n"
     ]
    }
   ],
   "source": [
    "a={1,2,3}\n",
    "b={3,4,5}\n",
    "print(a|b)\n",
    "print(a&b)\n",
    "print(a-b)\n",
    "print(a ^ b)  # {1, 2, 4, 5}\n"
   ]
  },
  {
   "cell_type": "code",
   "execution_count": 14,
   "id": "ad3aef4b-f42b-42c5-94a1-d6ebb914f50e",
   "metadata": {},
   "outputs": [
    {
     "data": {
      "text/plain": [
       "0"
      ]
     },
     "execution_count": 14,
     "metadata": {},
     "output_type": "execute_result"
    }
   ],
   "source": [
    "a.clear()        # Remove all elements\n",
    "len(a)           # Length of set\n",
    "\n"
   ]
  }
 ],
 "metadata": {
  "kernelspec": {
   "display_name": "Python 3 (ipykernel)",
   "language": "python",
   "name": "python3"
  },
  "language_info": {
   "codemirror_mode": {
    "name": "ipython",
    "version": 3
   },
   "file_extension": ".py",
   "mimetype": "text/x-python",
   "name": "python",
   "nbconvert_exporter": "python",
   "pygments_lexer": "ipython3",
   "version": "3.13.3"
  }
 },
 "nbformat": 4,
 "nbformat_minor": 5
}
