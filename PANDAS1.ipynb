{
 "cells": [
  {
   "cell_type": "markdown",
   "id": "42b47218-85dc-46ff-a598-a905aa821ff5",
   "metadata": {},
   "source": [
    "# Day one basic"
   ]
  },
  {
   "cell_type": "code",
   "execution_count": 1,
   "id": "7f5214c7-e5f0-4798-8094-631df545fecc",
   "metadata": {},
   "outputs": [],
   "source": [
    "import pandas as pd"
   ]
  },
  {
   "cell_type": "code",
   "execution_count": 4,
   "id": "bde0d287-b5a1-4cd1-a97e-2884b8a3acfe",
   "metadata": {},
   "outputs": [
    {
     "name": "stdout",
     "output_type": "stream",
     "text": [
      "0    10\n",
      "1    20\n",
      "2    30\n",
      "dtype: int64\n",
      "a    10\n",
      "b    20\n",
      "c    23\n",
      "dtype: int64\n"
     ]
    }
   ],
   "source": [
    "s=pd.Series([10,20,30])\n",
    "s1=pd.Series([10,20,23],index=['a','b','c'])\n",
    "print(s)\n",
    "print(s1)"
   ]
  },
  {
   "cell_type": "code",
   "execution_count": 7,
   "id": "e8f6069e-094a-4871-b0b6-2a4719f3b4a5",
   "metadata": {},
   "outputs": [
    {
     "name": "stdout",
     "output_type": "stream",
     "text": [
      "10\n",
      "30\n"
     ]
    }
   ],
   "source": [
    "print(s1['a'])\n",
    "print(s[2])"
   ]
  },
  {
   "cell_type": "code",
   "execution_count": 11,
   "id": "44251df8-73f3-466e-ab3a-d3ad9b5b9c4e",
   "metadata": {},
   "outputs": [
    {
     "name": "stdout",
     "output_type": "stream",
     "text": [
      "0    20\n",
      "1    30\n",
      "2    40\n",
      "dtype: int64\n",
      "0    20\n",
      "1    40\n",
      "2    60\n",
      "dtype: int64\n",
      "20.0\n",
      "30\n"
     ]
    }
   ],
   "source": [
    "print(s+10)\n",
    "print(s*2)\n",
    "print(s.mean())\n",
    "print(s.max())"
   ]
  },
  {
   "cell_type": "markdown",
   "id": "1d2ed64a-a1a8-4de6-8ed2-721313d7333e",
   "metadata": {},
   "source": [
    "# day 2 data frame"
   ]
  },
  {
   "cell_type": "code",
   "execution_count": 16,
   "id": "bee41a6a-c8f1-4750-b144-6df37a11a63c",
   "metadata": {},
   "outputs": [
    {
     "name": "stdout",
     "output_type": "stream",
     "text": [
      "     name  age    city\n",
      "a   karan   21  kangra\n",
      "b  bhoomi   22   delhi\n"
     ]
    }
   ],
   "source": [
    "data={\n",
    "    'name':['karan','bhoomi'],\n",
    "    'age':[21,22],\n",
    "    'city':['kangra','delhi']\n",
    "}\n",
    "df=pd.DataFrame(data,index=['a','b'])\n",
    "print(df)"
   ]
  },
  {
   "cell_type": "code",
   "execution_count": 20,
   "id": "3b5af055-5f28-4f19-be71-4436d20b3c7a",
   "metadata": {},
   "outputs": [
    {
     "name": "stdout",
     "output_type": "stream",
     "text": [
      "a     karan\n",
      "b    bhoomi\n",
      "Name: name, dtype: object\n",
      "     name  age\n",
      "a   karan   21\n",
      "b  bhoomi   22\n",
      "name     karan\n",
      "age         21\n",
      "city    kangra\n",
      "Name: a, dtype: object\n",
      "delhi\n"
     ]
    }
   ],
   "source": [
    "print(df['name'])\n",
    "print(df[['name','age']])\n"
   ]
  },
  {
   "cell_type": "code",
   "execution_count": 22,
   "id": "dba8469a-ca8c-4b03-83c2-d8122d04d961",
   "metadata": {},
   "outputs": [
    {
     "name": "stdout",
     "output_type": "stream",
     "text": [
      "name     karan\n",
      "age         21\n",
      "city    kangra\n",
      "Name: a, dtype: object\n"
     ]
    }
   ],
   "source": [
    "print(df.loc['a'])\n"
   ]
  },
  {
   "cell_type": "markdown",
   "id": "da43dcdf-c08b-4fd3-b004-25f979cd646e",
   "metadata": {},
   "source": [
    "print(df.iloc[1])"
   ]
  },
  {
   "cell_type": "code",
   "execution_count": 29,
   "id": "c3a422c6-a8b4-477c-ba4b-d546f9b134a8",
   "metadata": {},
   "outputs": [
    {
     "name": "stdout",
     "output_type": "stream",
     "text": [
      "(2, 3)\n",
      "Index(['name', 'age', 'city'], dtype='object')\n",
      "name    object\n",
      "age      int64\n",
      "city    object\n",
      "dtype: object\n",
      "<bound method DataFrame.info of      name  age    city\n",
      "a   karan   21  kangra\n",
      "b  bhoomi   22   delhi>\n",
      "<bound method NDFrame.describe of      name  age    city\n",
      "a   karan   21  kangra\n",
      "b  bhoomi   22   delhi>\n"
     ]
    }
   ],
   "source": [
    "print(df.shape)\n",
    "print(df.columns)\n",
    "print(df.dtypes)\n",
    "print(df.info)\n",
    "print(df.describe)"
   ]
  },
  {
   "cell_type": "markdown",
   "id": "2fbec85a-d9e6-4c70-b32b-5bc3ce5a3170",
   "metadata": {},
   "source": [
    "# day 3 filter"
   ]
  },
  {
   "cell_type": "code",
   "execution_count": 32,
   "id": "4dde39f1-6691-4ccf-a32b-23618199e973",
   "metadata": {},
   "outputs": [
    {
     "name": "stdout",
     "output_type": "stream",
     "text": [
      "     name  age   city\n",
      "b  bhoomi   22  delhi\n",
      "     name  age   city\n",
      "b  bhoomi   22  delhi\n"
     ]
    }
   ],
   "source": [
    "print(df[df['age']>21])\n",
    "print(df[(df['age']>20) & (df['city']=='delhi')])"
   ]
  },
  {
   "cell_type": "code",
   "execution_count": 33,
   "id": "76c4486f-adf2-4803-8c7e-c0d684ac6dc7",
   "metadata": {},
   "outputs": [
    {
     "name": "stdout",
     "output_type": "stream",
     "text": [
      "     name  age   city\n",
      "b  bhoomi   22  delhi\n"
     ]
    }
   ],
   "source": [
    "print(df[df['city'].isin(['delhi','haryana'])])"
   ]
  },
  {
   "cell_type": "code",
   "execution_count": 34,
   "id": "cca4556c-2696-45c1-bafa-6b22fbacc9fc",
   "metadata": {},
   "outputs": [
    {
     "name": "stdout",
     "output_type": "stream",
     "text": [
      "     name  age    city\n",
      "a   karan   21  kangra\n",
      "b  bhoomi   22   delhi\n"
     ]
    }
   ],
   "source": [
    "print(df[df['age'].between(20,30) ])"
   ]
  },
  {
   "cell_type": "markdown",
   "id": "fd55a401-e27f-490d-bc39-8c96bfb8c033",
   "metadata": {},
   "source": [
    "# modifying data"
   ]
  },
  {
   "cell_type": "code",
   "execution_count": 36,
   "id": "9138f904-fede-44cd-80d0-ccbe534dff7b",
   "metadata": {},
   "outputs": [
    {
     "name": "stdout",
     "output_type": "stream",
     "text": [
      "     name  age    city  marks\n",
      "a   karan   21  kangra     80\n",
      "b  bhoomi   22   delhi     90\n"
     ]
    }
   ],
   "source": [
    "df['marks']=[80,90]\n",
    "print(df)"
   ]
  },
  {
   "cell_type": "code",
   "execution_count": 37,
   "id": "a81fa322-f29d-4567-a57e-49902d7cf318",
   "metadata": {},
   "outputs": [
    {
     "data": {
      "text/html": [
       "<div>\n",
       "<style scoped>\n",
       "    .dataframe tbody tr th:only-of-type {\n",
       "        vertical-align: middle;\n",
       "    }\n",
       "\n",
       "    .dataframe tbody tr th {\n",
       "        vertical-align: top;\n",
       "    }\n",
       "\n",
       "    .dataframe thead th {\n",
       "        text-align: right;\n",
       "    }\n",
       "</style>\n",
       "<table border=\"1\" class=\"dataframe\">\n",
       "  <thead>\n",
       "    <tr style=\"text-align: right;\">\n",
       "      <th></th>\n",
       "      <th>name</th>\n",
       "      <th>age</th>\n",
       "      <th>city</th>\n",
       "    </tr>\n",
       "  </thead>\n",
       "  <tbody>\n",
       "    <tr>\n",
       "      <th>a</th>\n",
       "      <td>karan</td>\n",
       "      <td>21</td>\n",
       "      <td>kangra</td>\n",
       "    </tr>\n",
       "    <tr>\n",
       "      <th>b</th>\n",
       "      <td>bhoomi</td>\n",
       "      <td>22</td>\n",
       "      <td>delhi</td>\n",
       "    </tr>\n",
       "  </tbody>\n",
       "</table>\n",
       "</div>"
      ],
      "text/plain": [
       "     name  age    city\n",
       "a   karan   21  kangra\n",
       "b  bhoomi   22   delhi"
      ]
     },
     "execution_count": 37,
     "metadata": {},
     "output_type": "execute_result"
    }
   ],
   "source": [
    "df.drop('marks',axis=1)"
   ]
  },
  {
   "cell_type": "code",
   "execution_count": 38,
   "id": "6fb2cf25-21ac-4cc5-9acc-b9279c2fec11",
   "metadata": {},
   "outputs": [
    {
     "data": {
      "text/html": [
       "<div>\n",
       "<style scoped>\n",
       "    .dataframe tbody tr th:only-of-type {\n",
       "        vertical-align: middle;\n",
       "    }\n",
       "\n",
       "    .dataframe tbody tr th {\n",
       "        vertical-align: top;\n",
       "    }\n",
       "\n",
       "    .dataframe thead th {\n",
       "        text-align: right;\n",
       "    }\n",
       "</style>\n",
       "<table border=\"1\" class=\"dataframe\">\n",
       "  <thead>\n",
       "    <tr style=\"text-align: right;\">\n",
       "      <th></th>\n",
       "      <th>student</th>\n",
       "      <th>age</th>\n",
       "      <th>city</th>\n",
       "      <th>marks</th>\n",
       "    </tr>\n",
       "  </thead>\n",
       "  <tbody>\n",
       "    <tr>\n",
       "      <th>a</th>\n",
       "      <td>karan</td>\n",
       "      <td>21</td>\n",
       "      <td>kangra</td>\n",
       "      <td>80</td>\n",
       "    </tr>\n",
       "    <tr>\n",
       "      <th>b</th>\n",
       "      <td>bhoomi</td>\n",
       "      <td>22</td>\n",
       "      <td>delhi</td>\n",
       "      <td>90</td>\n",
       "    </tr>\n",
       "  </tbody>\n",
       "</table>\n",
       "</div>"
      ],
      "text/plain": [
       "  student  age    city  marks\n",
       "a   karan   21  kangra     80\n",
       "b  bhoomi   22   delhi     90"
      ]
     },
     "execution_count": 38,
     "metadata": {},
     "output_type": "execute_result"
    }
   ],
   "source": [
    "df.rename(columns={'name':'student'})"
   ]
  },
  {
   "cell_type": "code",
   "execution_count": 42,
   "id": "081efcf5-49f0-45ca-9a6c-901cb4a14f94",
   "metadata": {},
   "outputs": [
    {
     "name": "stdout",
     "output_type": "stream",
     "text": [
      "     name  age      city  marks\n",
      "a   karan   21    kangra     80\n",
      "b  bhoomi   22  bhatrala     90\n"
     ]
    }
   ],
   "source": [
    "df['city']=df['city'].replace('delhi','bhatrala')\n",
    "print(df)"
   ]
  },
  {
   "cell_type": "markdown",
   "id": "243dfa95-a685-44fe-851c-2d635dad9689",
   "metadata": {},
   "source": [
    "# day 5"
   ]
  },
  {
   "cell_type": "code",
   "execution_count": 43,
   "id": "fa6e4069-6926-4267-933c-115873d324a5",
   "metadata": {},
   "outputs": [
    {
     "name": "stdout",
     "output_type": "stream",
     "text": [
      "    Name   Age  Marks    City\n",
      "0  Karan  21.0   88.0  Kangra\n",
      "1   Riya   NaN   76.0   Delhi\n",
      "2  Pinku  20.0    NaN     NaN\n",
      "3   Aman  23.0    NaN   Delhi\n"
     ]
    }
   ],
   "source": [
    "import pandas as pd\n",
    "import numpy as np\n",
    "\n",
    "data = {\n",
    "    'Name': ['Karan', 'Riya', 'Pinku', 'Aman'],\n",
    "    'Age': [21, np.nan, 20, 23],\n",
    "    'Marks': [88, 76, np.nan, np.nan],\n",
    "    'City': ['Kangra', 'Delhi', np.nan, 'Delhi']\n",
    "}\n",
    "\n",
    "df = pd.DataFrame(data)\n",
    "print(df)\n"
   ]
  },
  {
   "cell_type": "code",
   "execution_count": 44,
   "id": "78921e09-a87b-40b7-a53d-f9a3fe6be234",
   "metadata": {},
   "outputs": [
    {
     "name": "stdout",
     "output_type": "stream",
     "text": [
      "    Name    Age  Marks   City\n",
      "0  False  False  False  False\n",
      "1  False   True  False  False\n",
      "2  False  False   True   True\n",
      "3  False  False   True  False\n"
     ]
    }
   ],
   "source": [
    "print(df.isnull())"
   ]
  },
  {
   "cell_type": "code",
   "execution_count": 45,
   "id": "d4f21381-fa24-4aa2-b529-9291c8204829",
   "metadata": {},
   "outputs": [
    {
     "name": "stdout",
     "output_type": "stream",
     "text": [
      "Name     0\n",
      "Age      1\n",
      "Marks    2\n",
      "City     1\n",
      "dtype: int64\n"
     ]
    }
   ],
   "source": [
    "print(df.isnull().sum())"
   ]
  },
  {
   "cell_type": "code",
   "execution_count": 51,
   "id": "38d9ac8d-b390-4b7c-bf78-48d3973453ce",
   "metadata": {},
   "outputs": [
    {
     "name": "stdout",
     "output_type": "stream",
     "text": [
      "    Name   Age  Marks    City\n",
      "0  Karan  21.0   88.0  Kangra\n",
      "3   Aman  23.0    1.0   Delhi\n",
      "    Name   Age  Marks    City\n",
      "0  Karan  21.0   88.0  Kangra\n",
      "1   Riya   NaN   76.0   Delhi\n",
      "2  Pinku  20.0    1.0     NaN\n",
      "3   Aman  23.0    1.0   Delhi\n"
     ]
    }
   ],
   "source": [
    "print(df.dropna())\n",
    "print(df.dropna(how='all'))"
   ]
  },
  {
   "cell_type": "code",
   "execution_count": 47,
   "id": "1f906e50-69ef-4316-8de8-492a59f0143e",
   "metadata": {},
   "outputs": [
    {
     "name": "stdout",
     "output_type": "stream",
     "text": [
      "    Name   Age  Marks    City\n",
      "0  Karan  21.0   88.0  Kangra\n",
      "1   Riya   0.0   76.0   Delhi\n",
      "2  Pinku  20.0    0.0       0\n",
      "3   Aman  23.0    0.0   Delhi\n"
     ]
    }
   ],
   "source": [
    "print(df.fillna(0))"
   ]
  },
  {
   "cell_type": "code",
   "execution_count": 50,
   "id": "1cc8f952-758c-4404-b0b3-1780ef0380e3",
   "metadata": {},
   "outputs": [
    {
     "name": "stdout",
     "output_type": "stream",
     "text": [
      "    Name   Age  Marks    City\n",
      "0  Karan  21.0   88.0  Kangra\n",
      "1   Riya   NaN   76.0   Delhi\n",
      "2  Pinku  20.0    1.0     NaN\n",
      "3   Aman  23.0    1.0   Delhi\n"
     ]
    }
   ],
   "source": [
    "df['Marks']=df['Marks'].fillna(1)\n",
    "print(df)"
   ]
  },
  {
   "cell_type": "code",
   "execution_count": 52,
   "id": "fa258eea-d176-4bf0-bf8e-9aee43061cf9",
   "metadata": {},
   "outputs": [
    {
     "name": "stdout",
     "output_type": "stream",
     "text": [
      "    Name   Age  Marks    City\n",
      "0  Karan  21.0   88.0  Kangra\n",
      "1   Riya   NaN   76.0   Delhi\n",
      "2  Pinku  20.0    NaN     NaN\n",
      "3   Aman  23.0    NaN   Delhi\n"
     ]
    }
   ],
   "source": [
    "import pandas as pd\n",
    "import numpy as np\n",
    "\n",
    "data = {\n",
    "    'Name': ['Karan', 'Riya', 'Pinku', 'Aman'],\n",
    "    'Age': [21, np.nan, 20, 23],\n",
    "    'Marks': [88, 76, np.nan, np.nan],\n",
    "    'City': ['Kangra', 'Delhi', np.nan, 'Delhi']\n",
    "}\n",
    "\n",
    "df = pd.DataFrame(data)\n",
    "print(df)\n",
    "\n"
   ]
  },
  {
   "cell_type": "code",
   "execution_count": 54,
   "id": "8766e457-21e6-4ff8-8776-9d174c7ad235",
   "metadata": {},
   "outputs": [
    {
     "name": "stdout",
     "output_type": "stream",
     "text": [
      "\n",
      "Missing value\n",
      "    Name    Age  Marks   City\n",
      "0  False  False  False  False\n",
      "1  False   True  False  False\n",
      "2  False  False   True   True\n",
      "3  False  False   True  False\n",
      "\n",
      "Missing value count\n",
      "Name     0\n",
      "Age      1\n",
      "Marks    2\n",
      "City     1\n",
      "dtype: int64\n"
     ]
    }
   ],
   "source": [
    "print(\"\\nMissing value\")\n",
    "print(df.isnull())\n",
    "print(\"\\nMissing value count\")\n",
    "print(df.isnull().sum())"
   ]
  },
  {
   "cell_type": "code",
   "execution_count": 55,
   "id": "67431ce2-ce60-4283-b878-ed99cd2617f0",
   "metadata": {},
   "outputs": [
    {
     "name": "stdout",
     "output_type": "stream",
     "text": [
      "    Name   Age  Marks    City\n",
      "0  Karan  21.0   88.0  Kangra\n"
     ]
    }
   ],
   "source": [
    "print(df.dropna())"
   ]
  },
  {
   "cell_type": "code",
   "execution_count": 57,
   "id": "23575959-0eae-40d2-b6e5-fb47816c78da",
   "metadata": {},
   "outputs": [
    {
     "name": "stdout",
     "output_type": "stream",
     "text": [
      "    Name   Age  Marks    City\n",
      "0  Karan  21.0   88.0  Kangra\n",
      "1   Riya   1.0   76.0   Delhi\n",
      "2  Pinku  20.0    1.0       1\n",
      "3   Aman  23.0    1.0   Delhi\n"
     ]
    }
   ],
   "source": [
    "print(df.fillna(1))"
   ]
  },
  {
   "cell_type": "code",
   "execution_count": 60,
   "id": "00ae6666-e6f8-4e1f-85cd-d9eef29b46be",
   "metadata": {},
   "outputs": [
    {
     "name": "stdout",
     "output_type": "stream",
     "text": [
      "    Name   Age Marks    City\n",
      "0  Karan  21.0  88.0  Kangra\n",
      "1   Riya   NaN  76.0   Delhi\n",
      "2  Pinku  20.0  fail     NaN\n",
      "3   Aman  23.0  fail   Delhi\n",
      "0    88.0\n",
      "1    76.0\n",
      "2    fail\n",
      "3    fail\n",
      "Name: Marks, dtype: object\n"
     ]
    }
   ],
   "source": [
    "df['Marks']=df['Marks'].fillna('fail')\n",
    "print(df)\n",
    "print(df['Marks'])"
   ]
  },
  {
   "cell_type": "code",
   "execution_count": 61,
   "id": "f27b500b-b485-4997-90f6-3f67b33d4d85",
   "metadata": {},
   "outputs": [
    {
     "name": "stdout",
     "output_type": "stream",
     "text": [
      "  Student Class  Marks\n",
      "0   Karan   10A     88\n",
      "1    Riya   10A     76\n",
      "2   Pinku   10B     90\n",
      "3    Aman   10B     65\n",
      "4    Diya   10A     84\n",
      "5   Vivek   10B     78\n"
     ]
    }
   ],
   "source": [
    "import pandas as pd\n",
    "\n",
    "data = {\n",
    "    'Student': ['Karan', 'Riya', 'Pinku', 'Aman', 'Diya', 'Vivek'],\n",
    "    'Class': ['10A', '10A', '10B', '10B', '10A', '10B'],\n",
    "    'Marks': [88, 76, 90, 65, 84, 78]\n",
    "}\n",
    "\n",
    "df = pd.DataFrame(data)\n",
    "print(df)\n"
   ]
  },
  {
   "cell_type": "code",
   "execution_count": 62,
   "id": "77e96c64-ef94-4be5-baba-70e3c9c472a7",
   "metadata": {},
   "outputs": [
    {
     "name": "stdout",
     "output_type": "stream",
     "text": [
      "Class\n",
      "10A    82.666667\n",
      "10B    77.666667\n",
      "Name: Marks, dtype: float64\n"
     ]
    }
   ],
   "source": [
    "grouped = df.groupby('Class')['Marks'].mean()\n",
    "print(grouped)\n"
   ]
  },
  {
   "cell_type": "code",
   "execution_count": 63,
   "id": "760e983f-a642-46ba-835a-26543da07a84",
   "metadata": {},
   "outputs": [
    {
     "name": "stdout",
     "output_type": "stream",
     "text": [
      "Class\n",
      "10A    248\n",
      "10B    233\n",
      "Name: Marks, dtype: int64\n",
      "Class\n",
      "10A    3\n",
      "10B    3\n",
      "Name: Marks, dtype: int64\n",
      "Class\n",
      "10A    88\n",
      "10B    90\n",
      "Name: Marks, dtype: int64\n"
     ]
    }
   ],
   "source": [
    "# Sum\n",
    "print(df.groupby('Class')['Marks'].sum())\n",
    "\n",
    "# Count\n",
    "print(df.groupby('Class')['Marks'].count())\n",
    "\n",
    "# Max/Min\n",
    "print(df.groupby('Class')['Marks'].max())\n"
   ]
  },
  {
   "cell_type": "code",
   "execution_count": 64,
   "id": "40767bf1-1438-4a47-8e63-d3b88d597b49",
   "metadata": {},
   "outputs": [
    {
     "name": "stdout",
     "output_type": "stream",
     "text": [
      "    Name  Marks\n",
      "0  Karan     88\n",
      "1   Riya     76\n",
      "0  Pinku     90\n",
      "1   Aman     65\n"
     ]
    }
   ],
   "source": [
    "import pandas as pd\n",
    "\n",
    "df1 = pd.DataFrame({\n",
    "    'Name': ['Karan', 'Riya'],\n",
    "    'Marks': [88, 76]\n",
    "})\n",
    "\n",
    "df2 = pd.DataFrame({\n",
    "    'Name': ['Pinku', 'Aman'],\n",
    "    'Marks': [90, 65]\n",
    "})\n",
    "\n",
    "df_combined = pd.concat([df1, df2])\n",
    "print(df_combined)\n"
   ]
  },
  {
   "cell_type": "code",
   "execution_count": 65,
   "id": "2f06181a-e141-4951-b6db-dc4dd957d16b",
   "metadata": {},
   "outputs": [
    {
     "name": "stdout",
     "output_type": "stream",
     "text": [
      "   A  B\n",
      "0  1  3\n",
      "1  2  4\n"
     ]
    }
   ],
   "source": [
    "df_a = pd.DataFrame({'A': [1, 2]})\n",
    "df_b = pd.DataFrame({'B': [3, 4]})\n",
    "\n",
    "df_side = pd.concat([df_a, df_b], axis=1)\n",
    "print(df_side)\n"
   ]
  },
  {
   "cell_type": "code",
   "execution_count": 68,
   "id": "47efdb80-b319-4e9f-ac60-9e7977e790f9",
   "metadata": {},
   "outputs": [
    {
     "name": "stdout",
     "output_type": "stream",
     "text": [
      "   ID   Name  Marks\n",
      "0   1  Karan     88\n",
      "1   2   Riya     76\n"
     ]
    }
   ],
   "source": [
    "students = pd.DataFrame({\n",
    "    'ID': [1, 2, 3],\n",
    "    'Name': ['Karan', 'Riya', 'Pinku']\n",
    "})\n",
    "\n",
    "marks = pd.DataFrame({\n",
    "    'ID': [1, 2, 4],\n",
    "    'Marks': [88, 76, 90]\n",
    "})\n",
    "\n",
    "merged = pd.merge(students,marks)\n",
    "print(merged)\n"
   ]
  },
  {
   "cell_type": "code",
   "execution_count": null,
   "id": "32d2131d-bd1a-4207-b12e-2d063697f3b2",
   "metadata": {},
   "outputs": [],
   "source": []
  }
 ],
 "metadata": {
  "kernelspec": {
   "display_name": "Python 3 (ipykernel)",
   "language": "python",
   "name": "python3"
  },
  "language_info": {
   "codemirror_mode": {
    "name": "ipython",
    "version": 3
   },
   "file_extension": ".py",
   "mimetype": "text/x-python",
   "name": "python",
   "nbconvert_exporter": "python",
   "pygments_lexer": "ipython3",
   "version": "3.13.3"
  }
 },
 "nbformat": 4,
 "nbformat_minor": 5
}
