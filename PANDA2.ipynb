{
 "cells": [
  {
   "cell_type": "code",
   "execution_count": 1,
   "id": "9cea3e1f-13cb-4195-b2a5-8ceed7816831",
   "metadata": {},
   "outputs": [],
   "source": [
    "import pandas as pd"
   ]
  },
  {
   "cell_type": "code",
   "execution_count": 4,
   "id": "fe2583db-d17d-44a5-a625-ef5c365b543d",
   "metadata": {},
   "outputs": [
    {
     "name": "stdout",
     "output_type": "stream",
     "text": [
      "   Unnamed: 0        Date     Product     Category  Units_Sold  Unit_Price  \\\n",
      "0           0  2025-07-01      Laptop  Electronics           5       55000   \n",
      "1           1  2025-07-01  Headphones  Accessories          15        1500   \n",
      "2           2  2025-07-01  Smartphone  Electronics           8       30000   \n",
      "3           3  2025-07-02      Laptop  Electronics           3       55000   \n",
      "4           4  2025-07-02       Mouse  Accessories          20         500   \n",
      "5           5  2025-07-03    Keyboard  Accessories          12         800   \n",
      "6           6  2025-07-03  Smartphone  Electronics          10       30000   \n",
      "7           7  2025-07-03  Power Bank  Accessories          18        1200   \n",
      "\n",
      "   Total_Sales       City  \n",
      "0       275000      Delhi  \n",
      "1        22500     Mumbai  \n",
      "2       240000  Bangalore  \n",
      "3       165000    Chennai  \n",
      "4        10000      Delhi  \n",
      "5         9600     Mumbai  \n",
      "6       300000  Bangalore  \n",
      "7        21600    Kolkata  \n",
      "   Unnamed: 0   Date  Product  Category  Units_Sold  Unit_Price  Total_Sales  \\\n",
      "0       False  False    False     False       False       False        False   \n",
      "1       False  False    False     False       False       False        False   \n",
      "2       False  False    False     False       False       False        False   \n",
      "3       False  False    False     False       False       False        False   \n",
      "4       False  False    False     False       False       False        False   \n",
      "5       False  False    False     False       False       False        False   \n",
      "6       False  False    False     False       False       False        False   \n",
      "7       False  False    False     False       False       False        False   \n",
      "\n",
      "    City  \n",
      "0  False  \n",
      "1  False  \n",
      "2  False  \n",
      "3  False  \n",
      "4  False  \n",
      "5  False  \n",
      "6  False  \n",
      "7  False  \n",
      "   Unnamed: 0        Date     Product     Category  Units_Sold  Unit_Price  \\\n",
      "0           0  2025-07-01      Laptop  Electronics           5       55000   \n",
      "1           1  2025-07-01  Headphones  Accessories          15        1500   \n",
      "2           2  2025-07-01  Smartphone  Electronics           8       30000   \n",
      "3           3  2025-07-02      Laptop  Electronics           3       55000   \n",
      "4           4  2025-07-02       Mouse  Accessories          20         500   \n",
      "5           5  2025-07-03    Keyboard  Accessories          12         800   \n",
      "6           6  2025-07-03  Smartphone  Electronics          10       30000   \n",
      "7           7  2025-07-03  Power Bank  Accessories          18        1200   \n",
      "\n",
      "   Total_Sales       City  \n",
      "0       275000      Delhi  \n",
      "1        22500     Mumbai  \n",
      "2       240000  Bangalore  \n",
      "3       165000    Chennai  \n",
      "4        10000      Delhi  \n",
      "5         9600     Mumbai  \n",
      "6       300000  Bangalore  \n",
      "7        21600    Kolkata  \n"
     ]
    }
   ],
   "source": [
    "df=pd.read_csv('company.csv')\n",
    "print(df)\n",
    "print(df.isnull())\n",
    "print(df.dropna())"
   ]
  }
 ],
 "metadata": {
  "kernelspec": {
   "display_name": "Python 3 (ipykernel)",
   "language": "python",
   "name": "python3"
  },
  "language_info": {
   "codemirror_mode": {
    "name": "ipython",
    "version": 3
   },
   "file_extension": ".py",
   "mimetype": "text/x-python",
   "name": "python",
   "nbconvert_exporter": "python",
   "pygments_lexer": "ipython3",
   "version": "3.13.3"
  }
 },
 "nbformat": 4,
 "nbformat_minor": 5
}
