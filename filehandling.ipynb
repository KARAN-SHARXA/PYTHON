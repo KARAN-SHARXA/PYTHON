{
 "cells": [
  {
   "cell_type": "markdown",
   "id": "e76912f7-d798-4570-856e-8da72aa02a73",
   "metadata": {},
   "source": [
    "# file handling\n"
   ]
  },
  {
   "cell_type": "code",
   "execution_count": 20,
   "id": "aabe7bd2-6af6-4ccc-b72a-a3d1999995e9",
   "metadata": {},
   "outputs": [
    {
     "name": "stdout",
     "output_type": "stream",
     "text": [
      "hi i am karan\n",
      "this is append\n"
     ]
    }
   ],
   "source": [
    "# read data from file\n",
    "f=open(\"text1.txt\",\"r\")\n",
    "print(f.read())\n",
    "f.close()"
   ]
  },
  {
   "cell_type": "code",
   "execution_count": 24,
   "id": "19887521-a9d0-4000-8d1c-685a79e3dbc7",
   "metadata": {},
   "outputs": [],
   "source": [
    "# write data in file\n",
    "f=open(\"text4.txt\",\"w\")\n",
    "f.write(\"this my new file\")\n",
    "f.close()\n"
   ]
  },
  {
   "cell_type": "code",
   "execution_count": 25,
   "id": "3f3bfc84-8bbb-422a-bd7a-3af2903aac66",
   "metadata": {},
   "outputs": [],
   "source": [
    "#append at end\n",
    "f=open(\"text4.txt\",\"a\")\n",
    "f.write(\"\\nthis is new line added\")\n",
    "f.close()"
   ]
  },
  {
   "cell_type": "code",
   "execution_count": 33,
   "id": "2a18f0aa-8276-4b13-93a3-638952e231c3",
   "metadata": {},
   "outputs": [
    {
     "name": "stdout",
     "output_type": "stream",
     "text": [
      "this my new file\n",
      "this is new line addedhihihi hi\n"
     ]
    }
   ],
   "source": [
    "with open(\"text4.txt\",\"r+\") as f:\n",
    "    content=f.read()\n",
    "    print(content)\n",
    "    f.seek(0)\n",
    "\n",
    "    f.write(\"hi\")"
   ]
  },
  {
   "cell_type": "code",
   "execution_count": 34,
   "id": "d690fdb1-7eab-4aaf-b662-16e87ec21db1",
   "metadata": {},
   "outputs": [
    {
     "name": "stdout",
     "output_type": "stream",
     "text": [
      "new content karan is good \n"
     ]
    }
   ],
   "source": [
    "with open(\"text4.txt\",\"w+\") as f:\n",
    "    f.write(\"karan is good \")\n",
    "    f.seek(0)\n",
    "\n",
    "    content=f.read()\n",
    "    print(\"new content\",content)"
   ]
  }
 ],
 "metadata": {
  "kernelspec": {
   "display_name": "Python 3 (ipykernel)",
   "language": "python",
   "name": "python3"
  },
  "language_info": {
   "codemirror_mode": {
    "name": "ipython",
    "version": 3
   },
   "file_extension": ".py",
   "mimetype": "text/x-python",
   "name": "python",
   "nbconvert_exporter": "python",
   "pygments_lexer": "ipython3",
   "version": "3.13.3"
  }
 },
 "nbformat": 4,
 "nbformat_minor": 5
}
