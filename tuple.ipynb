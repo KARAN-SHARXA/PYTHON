{
 "cells": [
  {
   "cell_type": "markdown",
   "id": "eaedce69-0a1c-4a9a-9589-9324c04e87c5",
   "metadata": {},
   "source": [
    "# tuple"
   ]
  },
  {
   "cell_type": "markdown",
   "id": "f9e02390-f223-436b-9110-b0c81aea3d5d",
   "metadata": {},
   "source": [
    "<h6> tuple in python  is an ordered,immutable,allow duplicates </h6>"
   ]
  },
  {
   "cell_type": "code",
   "execution_count": 4,
   "id": "27715149-b2ad-406e-95ed-7339df10c046",
   "metadata": {},
   "outputs": [
    {
     "name": "stdout",
     "output_type": "stream",
     "text": [
      "(1, 3, 2)\n",
      "<class 'tuple'>\n"
     ]
    }
   ],
   "source": [
    "\n",
    "\n",
    "my_tuple=(1,3,2)\n",
    "print(my_tuple)\n",
    "print(type(my_tuple))"
   ]
  },
  {
   "cell_type": "code",
   "execution_count": 5,
   "id": "01294e55-0ea7-4eab-af22-efb578a6c2ad",
   "metadata": {},
   "outputs": [
    {
     "name": "stdout",
     "output_type": "stream",
     "text": [
      "(1, 'hello', 3.2, (4+5j))\n"
     ]
    }
   ],
   "source": [
    "m=(1,\"hello\",3.2,4+5j)\n",
    "print(m)"
   ]
  },
  {
   "cell_type": "code",
   "execution_count": 6,
   "id": "fc526585-3bf0-4ff3-b874-c31fb242f3cb",
   "metadata": {},
   "outputs": [
    {
     "name": "stdout",
     "output_type": "stream",
     "text": [
      "()\n"
     ]
    }
   ],
   "source": [
    "my_tuple=()\n",
    "print(my_tuple)"
   ]
  },
  {
   "cell_type": "code",
   "execution_count": 7,
   "id": "4b335174-b32b-4274-8758-aa0a3fee23af",
   "metadata": {},
   "outputs": [
    {
     "name": "stdout",
     "output_type": "stream",
     "text": [
      "(1, 2, 3, [1, 2, 3], (2, 3, 4))\n"
     ]
    }
   ],
   "source": [
    "my_tuple=(1,2,3,[1,2,3],(2,3,4))\n",
    "print(my_tuple)"
   ]
  },
  {
   "cell_type": "code",
   "execution_count": 8,
   "id": "512e7a8f-5686-4318-b862-7d5c7aa9a358",
   "metadata": {},
   "outputs": [
    {
     "name": "stdout",
     "output_type": "stream",
     "text": [
      "('hello',)\n",
      "<class 'tuple'>\n"
     ]
    }
   ],
   "source": [
    "var=(\"hello\",)\n",
    "print(var)\n",
    "print(type(var))"
   ]
  },
  {
   "cell_type": "code",
   "execution_count": 9,
   "id": "c5123e92-b5a3-4cb7-9445-e0396718c2cf",
   "metadata": {},
   "outputs": [
    {
     "name": "stdout",
     "output_type": "stream",
     "text": [
      "('a', 'b', 'c')\n"
     ]
    }
   ],
   "source": [
    "#tuple constructor\n",
    "a=tuple((\"a\",\"b\",\"c\"))\n",
    "print(a)"
   ]
  },
  {
   "cell_type": "code",
   "execution_count": 10,
   "id": "320efa14-85ad-4591-ae8b-224a1676e163",
   "metadata": {},
   "outputs": [
    {
     "name": "stdout",
     "output_type": "stream",
     "text": [
      "4\n"
     ]
    }
   ],
   "source": [
    "#indexing\n",
    "a=(47,48,45,68,48,4,8)\n",
    "print(a[5])"
   ]
  },
  {
   "cell_type": "code",
   "execution_count": 15,
   "id": "f2cabd47-fc52-4fd8-82a8-b947d22045f3",
   "metadata": {},
   "outputs": [
    {
     "name": "stdout",
     "output_type": "stream",
     "text": [
      "(14, 15)\n",
      "(14, 3, 5, 7)\n",
      "(8, 7, 6, 5, 4, 3, 15, 14)\n",
      "(14, 15, 3, 4, 5, 6, 7, 8)\n"
     ]
    }
   ],
   "source": [
    "#slicing\n",
    "a=(14,15,3,4,5,6,7,8)\n",
    "print(a[0:2])\n",
    "print(a[::2])\n",
    "print(a[::-1])\n",
    "print(a[::])"
   ]
  },
  {
   "cell_type": "code",
   "execution_count": 16,
   "id": "28be2a12-c33d-48f0-ab89-eb404a1e6fea",
   "metadata": {},
   "outputs": [
    {
     "name": "stdout",
     "output_type": "stream",
     "text": [
      "(1, 2, 3, 4, 4, 4, 4, 4, 44, 4)\n"
     ]
    }
   ],
   "source": [
    "t=(1,2,3,4,4,4,4,4,44,4,)\n",
    "print(t)"
   ]
  },
  {
   "cell_type": "code",
   "execution_count": 17,
   "id": "64433d29-3007-4d6b-965d-bf11590318eb",
   "metadata": {},
   "outputs": [
    {
     "name": "stdout",
     "output_type": "stream",
     "text": [
      "(25, 24, 3, 6, 33, 33, 33, 33, 29, 30)\n"
     ]
    }
   ],
   "source": [
    "a=(25,24,3,6,33,33,33,33,29)\n",
    "y=list(a)\n",
    "y.append(30)\n",
    "a=tuple(y)\n",
    "print(a)"
   ]
  },
  {
   "cell_type": "code",
   "execution_count": 18,
   "id": "cabb9dd1-5dd8-4d09-a67d-f71d4089a2d4",
   "metadata": {},
   "outputs": [
    {
     "name": "stdout",
     "output_type": "stream",
     "text": [
      "(2, 3, 3, 4, 5, 6)\n"
     ]
    }
   ],
   "source": [
    "a=(2,3,3,3,4,5,6)\n",
    "y=list(a)\n",
    "y.remove(3)\n",
    "a=tuple(y)\n",
    "print(a)"
   ]
  },
  {
   "cell_type": "code",
   "execution_count": 20,
   "id": "b64df317-81a7-4480-afa4-e2b136c5ca7d",
   "metadata": {},
   "outputs": [
    {
     "name": "stdout",
     "output_type": "stream",
     "text": [
      "(1, 2, 3, 4, 5, 6)\n"
     ]
    }
   ],
   "source": [
    "a=(1,2,3,4,5,6)\n",
    "print(a)\n",
    "del a"
   ]
  },
  {
   "cell_type": "code",
   "execution_count": 21,
   "id": "51ba0615-d9ca-4866-8c0b-1ed56122e3cc",
   "metadata": {},
   "outputs": [
    {
     "name": "stdout",
     "output_type": "stream",
     "text": [
      "A\n",
      "b\n",
      "c\n"
     ]
    }
   ],
   "source": [
    "a=(\"A\",\"b\",\"c\")\n",
    "for i in a:\n",
    "    print(i)"
   ]
  },
  {
   "cell_type": "code",
   "execution_count": 22,
   "id": "4136f799-51a3-4e64-bf78-b34593e3236b",
   "metadata": {},
   "outputs": [
    {
     "name": "stdout",
     "output_type": "stream",
     "text": [
      "('a', 'b', 'c', 1, 2, 3)\n"
     ]
    }
   ],
   "source": [
    "#join two tuple\n",
    "tuple1=(\"a\",\"b\",\"c\")\n",
    "tuple2=(1,2,3)\n",
    "tuple3=tuple1+tuple2\n",
    "print(tuple3)"
   ]
  },
  {
   "cell_type": "code",
   "execution_count": 23,
   "id": "c5c9258b-c4d3-422d-8c9c-8000021591ba",
   "metadata": {},
   "outputs": [
    {
     "name": "stdout",
     "output_type": "stream",
     "text": [
      "('tuple', 'b', 'c', 'tuple', 'b', 'c', 'tuple', 'b', 'c')\n"
     ]
    }
   ],
   "source": [
    "a=(\"tuple\",\"b\",\"c\")\n",
    "b=a*3\n",
    "print(b)"
   ]
  },
  {
   "cell_type": "code",
   "execution_count": 26,
   "id": "1ec61c63-9661-4e82-87f9-9616387b9e37",
   "metadata": {},
   "outputs": [
    {
     "name": "stdout",
     "output_type": "stream",
     "text": [
      "(1, 2, 3, 4, 5, 5, 6, 0.6, 1, 2, 3, 4, 5, 5, 6, 0.6)\n",
      "(1, 2, 3, 4, 5, 5, 6, 0.6, 1, 2, 3, 4, 5, 5, 6, 0.6, 1, 2, 3, 4, 5, 5, 6, 0.6)\n"
     ]
    }
   ],
   "source": [
    "t=(1,2,3,4,5,5,6,.6)\n",
    "print(t*2)\n",
    "print(t+t+t)"
   ]
  }
 ],
 "metadata": {
  "kernelspec": {
   "display_name": "Python 3 (ipykernel)",
   "language": "python",
   "name": "python3"
  },
  "language_info": {
   "codemirror_mode": {
    "name": "ipython",
    "version": 3
   },
   "file_extension": ".py",
   "mimetype": "text/x-python",
   "name": "python",
   "nbconvert_exporter": "python",
   "pygments_lexer": "ipython3",
   "version": "3.13.3"
  }
 },
 "nbformat": 4,
 "nbformat_minor": 5
}
