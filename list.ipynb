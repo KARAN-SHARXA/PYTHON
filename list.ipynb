{
 "cells": [
  {
   "cell_type": "markdown",
   "id": "8d413114-6707-4d46-b8fb-e113458a1160",
   "metadata": {},
   "source": [
    "# list"
   ]
  },
  {
   "cell_type": "markdown",
   "id": "85d72657-799c-4f3a-a6e3-39cc575547cd",
   "metadata": {},
   "source": [
    "# list items are ordered , changeable , and allow duplicate value"
   ]
  },
  {
   "cell_type": "markdown",
   "id": "278ba681-dc22-44b8-93c5-68d6bd425f37",
   "metadata": {},
   "source": [
    "<h1> #len()\n",
    "#index()\n",
    "#append()\n",
    "#remove() \n",
    "</h1>"
   ]
  },
  {
   "cell_type": "code",
   "execution_count": 3,
   "id": "f1615f8a-3827-4f53-8acd-d88f7f99cc97",
   "metadata": {},
   "outputs": [
    {
     "name": "stdout",
     "output_type": "stream",
     "text": [
      "['apple', 'banana', 'orange']\n"
     ]
    }
   ],
   "source": [
    "mylist=[\"apple\",\"banana\",\"orange\"]\n",
    "print(mylist)"
   ]
  },
  {
   "cell_type": "code",
   "execution_count": 2,
   "id": "7bd9beca-cc6a-4585-9089-0cda0c840427",
   "metadata": {},
   "outputs": [
    {
     "name": "stdout",
     "output_type": "stream",
     "text": [
      "[1, 'apple', 1.45]\n"
     ]
    }
   ],
   "source": [
    "mylist=[1,\"apple\",1.45]\n",
    "print(mylist)"
   ]
  },
  {
   "cell_type": "code",
   "execution_count": 4,
   "id": "14e6bcb1-40bf-4c8b-9f4b-7cc3d51e0d85",
   "metadata": {},
   "outputs": [
    {
     "name": "stdout",
     "output_type": "stream",
     "text": [
      "['apple', 'banana', 'oreange', 'apple']\n"
     ]
    }
   ],
   "source": [
    "#allow duplicates\n",
    "mylist=[\"apple\",\"banana\",\"oreange\",\"apple\"]\n",
    "print(mylist)\n"
   ]
  },
  {
   "cell_type": "code",
   "execution_count": 7,
   "id": "714eee25-8070-4467-bb13-0bbbc8008e31",
   "metadata": {},
   "outputs": [
    {
     "name": "stdout",
     "output_type": "stream",
     "text": [
      "6\n"
     ]
    }
   ],
   "source": [
    "list=[1,2,3,4,5,5]\n",
    "print(len(list))"
   ]
  },
  {
   "cell_type": "code",
   "execution_count": 18,
   "id": "d88b39ba-c963-43cf-b55b-8ff2756a91d0",
   "metadata": {},
   "outputs": [
    {
     "name": "stdout",
     "output_type": "stream",
     "text": [
      "2\n"
     ]
    }
   ],
   "source": [
    "#index function\n",
    "thislist=[12,33,44,55,66,77]\n",
    "print(thislist.index(44))"
   ]
  },
  {
   "cell_type": "code",
   "execution_count": 19,
   "id": "1ec042b9-771e-4a8e-900a-690a0cac88d5",
   "metadata": {},
   "outputs": [
    {
     "name": "stdout",
     "output_type": "stream",
     "text": [
      "['apple', 7, 2, 3, 4]\n"
     ]
    }
   ],
   "source": [
    "#change item\n",
    "thislist=[\"apple\",1,2,3,4]\n",
    "thislist[1]=7\n",
    "print(thislist)\n",
    "\n"
   ]
  },
  {
   "cell_type": "code",
   "execution_count": 27,
   "id": "bbff106d-9f9c-499b-b04b-c4781d12b16c",
   "metadata": {},
   "outputs": [
    {
     "name": "stdout",
     "output_type": "stream",
     "text": [
      "[4, 6, 6, 6, 7, 8, 9, 9, 0, 4, 3, 3, 2, 2, 2]\n"
     ]
    }
   ],
   "source": [
    "a=[6,6,6,6,7,8,9,9,0,4,3,3,2,2,2]\n",
    "b=a.index(6)\n",
    "a[b]=4\n",
    "print(a)"
   ]
  },
  {
   "cell_type": "code",
   "execution_count": 28,
   "id": "fa89ff6c-b00c-4195-9127-c0faa0e9a2fb",
   "metadata": {},
   "outputs": [
    {
     "name": "stdout",
     "output_type": "stream",
     "text": [
      "[12, 2, 'kk', 'jj', 'rr', 4, 4, 5, 6]\n"
     ]
    }
   ],
   "source": [
    "a=[12,2,2,3,4,4,5,6]\n",
    "a[2:4]=[\"kk\",\"jj\",\"rr\"]\n",
    "print(a)"
   ]
  },
  {
   "cell_type": "code",
   "execution_count": 29,
   "id": "edacecef-b9f0-44da-9a96-85e24c7ec967",
   "metadata": {},
   "outputs": [
    {
     "name": "stdout",
     "output_type": "stream",
     "text": [
      "[1, 2, 3, 4, 5, 6, 7, -8]\n"
     ]
    }
   ],
   "source": [
    "a=[1,2,3,4,5,6,7]\n",
    "a.append(-8)\n",
    "print(a)\n"
   ]
  },
  {
   "cell_type": "code",
   "execution_count": 31,
   "id": "bf05d39e-3401-47d6-aa86-09e1aabceefd",
   "metadata": {},
   "outputs": [
    {
     "name": "stdout",
     "output_type": "stream",
     "text": [
      "[78, 1245, 56, 'papper', 'pen']\n"
     ]
    }
   ],
   "source": [
    "m=[78,1245,34,56,\"papper\",\"pen\"]\n",
    "m.remove(34)\n",
    "print(m)"
   ]
  },
  {
   "cell_type": "code",
   "execution_count": 34,
   "id": "b0cfe8e6-1fd1-4c9c-90e6-3b850e4c0ad4",
   "metadata": {},
   "outputs": [
    {
     "name": "stdout",
     "output_type": "stream",
     "text": [
      "[89, 7, 6, 6, 5, 4, 3, 2, 1]\n"
     ]
    }
   ],
   "source": [
    "o=[1,2,3,4,5,6,6,7,89]\n",
    "o.reverse()\n",
    "print(o)"
   ]
  },
  {
   "cell_type": "code",
   "execution_count": 37,
   "id": "97802f28-3817-44a5-8177-58cea16a28cd",
   "metadata": {},
   "outputs": [
    {
     "name": "stdout",
     "output_type": "stream",
     "text": [
      "7\n",
      "33\n"
     ]
    }
   ],
   "source": [
    "p=[2,3,4,5,6,6,7]\n",
    "print(len(p))\n",
    "a=0\n",
    "for i in range(7):\n",
    "    a=a+p[i]\n",
    "    i=i+1\n",
    "print(a)"
   ]
  },
  {
   "cell_type": "code",
   "execution_count": 38,
   "id": "e2751eaa-fcdd-42f5-ab29-d9d6108411a1",
   "metadata": {},
   "outputs": [
    {
     "name": "stdout",
     "output_type": "stream",
     "text": [
      "3628800\n"
     ]
    }
   ],
   "source": [
    "m=[1,2,3,4,5,6,7,8,9,10]\n",
    "k=1\n",
    "for i in range(len(m)):\n",
    "    k=k*m[i]\n",
    "    i=i+1\n",
    "print(k)"
   ]
  },
  {
   "cell_type": "code",
   "execution_count": null,
   "id": "e192827d-42f6-433f-b1e5-2cbe02bc5330",
   "metadata": {},
   "outputs": [],
   "source": []
  }
 ],
 "metadata": {
  "kernelspec": {
   "display_name": "Python 3 (ipykernel)",
   "language": "python",
   "name": "python3"
  },
  "language_info": {
   "codemirror_mode": {
    "name": "ipython",
    "version": 3
   },
   "file_extension": ".py",
   "mimetype": "text/x-python",
   "name": "python",
   "nbconvert_exporter": "python",
   "pygments_lexer": "ipython3",
   "version": "3.13.3"
  }
 },
 "nbformat": 4,
 "nbformat_minor": 5
}
