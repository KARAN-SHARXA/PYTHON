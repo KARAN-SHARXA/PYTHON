{
 "cells": [
  {
   "cell_type": "markdown",
   "id": "d1f75c70-9b9b-4db3-8955-441ac869e95c",
   "metadata": {},
   "source": [
    "# Dictionary "
   ]
  },
  {
   "cell_type": "markdown",
   "id": "89c227f3-06f2-4acc-86d3-190f8f306f79",
   "metadata": {},
   "source": [
    "<h5> python dictionary is a collection of unoredered , changeable , and indexed </h5>"
   ]
  },
  {
   "cell_type": "code",
   "execution_count": 28,
   "id": "d35be3e9-7524-4cb0-9e59-a825fbe16f3c",
   "metadata": {},
   "outputs": [
    {
     "name": "stdout",
     "output_type": "stream",
     "text": [
      "{'name': 'karan', 'age': 21, 'city': 'kaangra'}\n"
     ]
    }
   ],
   "source": [
    "my_dict={\n",
    "    \"name\":\"karan\",\n",
    "    \"age\":21,\n",
    "    \"city\":\"kaangra\"\n",
    "}\n",
    "print(my_dict)"
   ]
  },
  {
   "cell_type": "code",
   "execution_count": 29,
   "id": "1e1fd604-6624-4281-b9d2-5d7be0c32e95",
   "metadata": {},
   "outputs": [
    {
     "name": "stdout",
     "output_type": "stream",
     "text": [
      "{'rollnumber': 23, 'name': 'karan', 'marks': 88.5}\n",
      "23\n",
      "None\n"
     ]
    }
   ],
   "source": [
    "student=dict(rollnumber=23,name=\"karan\",marks=88.5)\n",
    "print(student)\n",
    "print(student.get(\"rollnumber\"))\n",
    "print(student.get(\"bag\"))"
   ]
  },
  {
   "cell_type": "code",
   "execution_count": 30,
   "id": "09ca013a-2036-4a7f-8bbc-079a38c80e78",
   "metadata": {},
   "outputs": [
    {
     "name": "stdout",
     "output_type": "stream",
     "text": [
      "{'rollnumber': 23, 'name': 'karan', 'marks': 88.5, 'grade': 'A'}\n",
      "{'rollnumber': 23, 'name': 'karan', 'marks': 90, 'grade': 'A'}\n"
     ]
    }
   ],
   "source": [
    "#update\n",
    "student[\"grade\"]=\"A\"\n",
    "print(student)\n",
    "student[\"marks\"]=90\n",
    "print(student)"
   ]
  },
  {
   "cell_type": "code",
   "execution_count": 31,
   "id": "0641493b-ae32-4791-bafd-063e90045c34",
   "metadata": {},
   "outputs": [
    {
     "name": "stdout",
     "output_type": "stream",
     "text": [
      "{'rollnumber': 23, 'name': 'karan', 'grade': 'A'}\n"
     ]
    }
   ],
   "source": [
    "student.pop(\"marks\")\n",
    "print(student)"
   ]
  },
  {
   "cell_type": "code",
   "execution_count": 32,
   "id": "ee33d553-e9f5-4e07-b2ed-f92f098962ed",
   "metadata": {},
   "outputs": [
    {
     "name": "stdout",
     "output_type": "stream",
     "text": [
      "{}\n"
     ]
    }
   ],
   "source": [
    "student.clear()\n",
    "print(student)"
   ]
  },
  {
   "cell_type": "code",
   "execution_count": 33,
   "id": "c3262bba-09d8-49ae-8e36-b3618925f6ee",
   "metadata": {},
   "outputs": [
    {
     "name": "stdout",
     "output_type": "stream",
     "text": [
      "hello\n"
     ]
    }
   ],
   "source": [
    "# student.pop(\"marks\")         # Specific key remove\n",
    "# student.popitem()            # Last inserted item remove (Python 3.7+)\n",
    "# del student[\"roll_no\"]       # Specific key delete\n",
    "# student.clear()              # Saari dictionary empty\n",
    "print(\"hello\")"
   ]
  },
  {
   "cell_type": "code",
   "execution_count": 34,
   "id": "6a0a5c42-6745-42a5-a12a-6085abc661a2",
   "metadata": {},
   "outputs": [],
   "source": [
    "for key in student:\n",
    "    print(key, \":\", student[key])\n",
    "\n",
    "# OR\n",
    "for key, value in student.items():\n",
    "    print(key, \"=>\", value)\n"
   ]
  },
  {
   "cell_type": "code",
   "execution_count": 35,
   "id": "c1864b29-089c-4d21-a018-6eff771549fa",
   "metadata": {},
   "outputs": [
    {
     "name": "stdout",
     "output_type": "stream",
     "text": [
      "name => mariuti\n",
      "number => 333hp\n",
      "model => 2019\n"
     ]
    }
   ],
   "source": [
    "my_car = dict(name=\"mariuti\",number=\"333hp\",model=2019)\n",
    "for key,value in my_car.items():\n",
    "    print(key,\"=>\",value)"
   ]
  },
  {
   "cell_type": "code",
   "execution_count": 36,
   "id": "281808b4-fba6-4654-91c7-b5764ed03d6d",
   "metadata": {},
   "outputs": [
    {
     "name": "stdout",
     "output_type": "stream",
     "text": [
      "name : mariuti\n",
      "number : 333hp\n",
      "model : 2019\n"
     ]
    }
   ],
   "source": [
    "for key in my_car:\n",
    "    print(key,\":\",my_car[key])"
   ]
  },
  {
   "cell_type": "code",
   "execution_count": 37,
   "id": "c734fcaa-3d71-4ebd-a302-aeb4c36a057d",
   "metadata": {},
   "outputs": [
    {
     "name": "stdout",
     "output_type": "stream",
     "text": [
      "dict_keys(['name', 'number', 'model'])\n",
      "dict_values(['mariuti', '333hp', 2019])\n",
      "dict_items([('name', 'mariuti'), ('number', '333hp'), ('model', 2019)])\n"
     ]
    }
   ],
   "source": [
    "print(my_car.keys())     # Saari keys\n",
    "print(my_car.values())   # Saari values\n",
    "print(my_car.items())    # Key-value pairs as tuples\n"
   ]
  },
  {
   "cell_type": "code",
   "execution_count": 38,
   "id": "d77b490e-984f-46c3-ba3c-cd09ceb70250",
   "metadata": {},
   "outputs": [
    {
     "name": "stdout",
     "output_type": "stream",
     "text": [
      "Karan\n"
     ]
    }
   ],
   "source": [
    "college = {\n",
    "    \"student1\": {\"name\": \"Karan\", \"age\": 21},\n",
    "    \"student2\": {\"name\": \"Pinku\", \"age\": 22}\n",
    "}\n",
    "\n",
    "print(college[\"student1\"][\"name\"])  # Karan\n"
   ]
  }
 ],
 "metadata": {
  "kernelspec": {
   "display_name": "Python 3 (ipykernel)",
   "language": "python",
   "name": "python3"
  },
  "language_info": {
   "codemirror_mode": {
    "name": "ipython",
    "version": 3
   },
   "file_extension": ".py",
   "mimetype": "text/x-python",
   "name": "python",
   "nbconvert_exporter": "python",
   "pygments_lexer": "ipython3",
   "version": "3.13.3"
  }
 },
 "nbformat": 4,
 "nbformat_minor": 5
}
