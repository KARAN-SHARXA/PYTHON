{
 "cells": [
  {
   "cell_type": "markdown",
   "id": "22cc4f90-42a8-4458-8de7-26b2b0f189c3",
   "metadata": {},
   "source": [
    "# variable "
   ]
  },
  {
   "cell_type": "markdown",
   "id": "13360b8b-bc30-430d-a56e-d38e8fbc5f67",
   "metadata": {},
   "source": [
    "# a variable is a name that refers to a value stored in memeor , Python is dynamically typed, so you don't need to declare the data type. It’s detected automatically, at runtime ,What is the difference between global and local variables? global = declare outside a function , accessible throughout the program\n",
    "# local:defined inside a function\n",
    "# shadowing in python = local variable has the same name as global one\n",
    "# == compares values, is compares identities (memory)\n",
    "# Mutable: Can be changed (list, dict, set),Immutable: Can’t be changed (int, str, tuple)\n"
   ]
  },
  {
   "cell_type": "markdown",
   "id": "24a9be32-4c92-4fa1-9a1d-d8980e49cd75",
   "metadata": {},
   "source": [
    "<!-- Variables  = A variable in pyhton is name that refer to value stored in memory\n",
    "types 1 Local variable (declared inside a function,accessible only within that function)\n",
    "global variable =(declared outside a function , accessible anywhere in the code)\n",
    "nonlocal variables(used inside nested function)\n",
    "\n",
    "pyhton use reference counting and garbage collector for memory management\n",
    "reference counting = track how many variables point to object\n",
    "garbade collector=free memory for unreachable objects -->"
   ]
  },
  {
   "cell_type": "code",
   "execution_count": 1,
   "id": "ab73d864-aa10-448c-baa6-30d784262e01",
   "metadata": {},
   "outputs": [
    {
     "name": "stdout",
     "output_type": "stream",
     "text": [
      "10\n",
      "5\n"
     ]
    }
   ],
   "source": [
    "x=5 #globaal\n",
    "def fun():\n",
    "    x=10\n",
    "    print(x) #local\n",
    "fun()\n",
    "print(x)"
   ]
  },
  {
   "cell_type": "code",
   "execution_count": 1,
   "id": "e171242d-a6ee-4d67-9aa4-8e9eb8f7eacd",
   "metadata": {},
   "outputs": [
    {
     "name": "stdout",
     "output_type": "stream",
     "text": [
      "1\n"
     ]
    }
   ],
   "source": [
    "a=1\n",
    "print(a)"
   ]
  },
  {
   "cell_type": "code",
   "execution_count": 2,
   "id": "dcb945d7-3793-4dfc-b284-8cd7a5aa07b6",
   "metadata": {},
   "outputs": [
    {
     "name": "stdout",
     "output_type": "stream",
     "text": [
      "2 2.4\n"
     ]
    }
   ],
   "source": [
    "\n",
    "b=2\n",
    "c=2.4\n",
    "print(b,c)"
   ]
  },
  {
   "cell_type": "code",
   "execution_count": 3,
   "id": "a6dd4675-78d6-4732-beac-d5bed3e14015",
   "metadata": {},
   "outputs": [
    {
     "name": "stdout",
     "output_type": "stream",
     "text": [
      "Apple\n"
     ]
    }
   ],
   "source": [
    "x=\"Apple\"\n",
    "print(x)"
   ]
  },
  {
   "cell_type": "code",
   "execution_count": 8,
   "id": "0854c743-1fb2-4647-b973-b1b2ed1f629d",
   "metadata": {},
   "outputs": [
    {
     "name": "stdout",
     "output_type": "stream",
     "text": [
      "5\n"
     ]
    }
   ],
   "source": [
    "_a=5\n",
    "print(_a)"
   ]
  },
  {
   "cell_type": "markdown",
   "id": "cfcb5013-3332-4e25-a191-471a78ff2338",
   "metadata": {},
   "source": [
    "many value to one"
   ]
  },
  {
   "cell_type": "code",
   "execution_count": 9,
   "id": "cb5b503e-b1c2-48d6-89f8-244ad6d79c26",
   "metadata": {},
   "outputs": [
    {
     "name": "stdout",
     "output_type": "stream",
     "text": [
      "a b c\n"
     ]
    }
   ],
   "source": [
    "x,y,z=\"a\",\"b\",\"c\"\n",
    "print(x,y,z)"
   ]
  },
  {
   "cell_type": "markdown",
   "id": "c87794fd-606d-4566-b432-277995f78eca",
   "metadata": {},
   "source": [
    "# data type\n"
   ]
  },
  {
   "cell_type": "raw",
   "id": "8604451b-6f49-4e37-bcc3-8ac6fbd62409",
   "metadata": {},
   "source": [
    "#data type = what kind of data hold by a variable "
   ]
  },
  {
   "cell_type": "code",
   "execution_count": null,
   "id": "d9e9dc11-05bf-47fe-8bd4-5b590fa24dbd",
   "metadata": {},
   "outputs": [],
   "source": [
    "<!-- # A data type defined the kind of value a varible hold and what kind of operation can variable holds\n",
    "\n",
    "Numeric = int ,float,complex\n",
    "sequence = str,list,tuple,range\n",
    "set =set , frozenset\n",
    "Mapping = dict\n",
    "boolean = bool\n",
    "binary = bytes,bytearray\n",
    "special type = none type\n",
    "\n",
    "\n",
    "type mutable : can be changed after creation (list , dist ,set)\n",
    "immutable: can not be changed(int, str , tuple)\n",
    "\n",
    "\n",
    "none = represtents the absence of a value\n",
    "\n",
    "\n",
    "== check value equality\n",
    "is check identity equality\n",
    "\n",
    "\n",
    "type conversion = converting one data type to another one\n",
    "1> implicit conversion : done automatically (e.g int float)\n",
    "2> explicit conversion: done manually using int(), str()\n",
    "\n",
    "a=\"10\"\n",
    "b=int(a)  #Explicit -->"
   ]
  },
  {
   "cell_type": "code",
   "execution_count": 33,
   "id": "32654977-4878-4082-b3cb-7f6c2c41b4fd",
   "metadata": {},
   "outputs": [
    {
     "name": "stdout",
     "output_type": "stream",
     "text": [
      "10\n",
      "<class 'int'>\n"
     ]
    }
   ],
   "source": [
    "a=\"10\"\n",
    "b=int(a)\n",
    "print(b)\n",
    "print(type(b))"
   ]
  },
  {
   "cell_type": "code",
   "execution_count": 13,
   "id": "60c0eadb-941e-4b97-a4a2-84c14fc498a4",
   "metadata": {},
   "outputs": [
    {
     "name": "stdout",
     "output_type": "stream",
     "text": [
      "2\n",
      "<class 'int'>\n"
     ]
    }
   ],
   "source": [
    "x=2\n",
    "print(x)\n",
    "print(type(x))"
   ]
  },
  {
   "cell_type": "code",
   "execution_count": 14,
   "id": "caf7b01e-1990-45e8-adbb-1e0fd41a14cb",
   "metadata": {},
   "outputs": [
    {
     "name": "stdout",
     "output_type": "stream",
     "text": [
      "4.5\n",
      "<class 'float'>\n"
     ]
    }
   ],
   "source": [
    "y=4.5\n",
    "print(y)\n",
    "print(type(y))"
   ]
  },
  {
   "cell_type": "code",
   "execution_count": 15,
   "id": "19fcc738-be93-4353-82cc-8490336a2a9d",
   "metadata": {},
   "outputs": [
    {
     "name": "stdout",
     "output_type": "stream",
     "text": [
      "<class 'int'>\n"
     ]
    }
   ],
   "source": [
    "y=2*5\n",
    "print(type(y))"
   ]
  },
  {
   "cell_type": "code",
   "execution_count": 16,
   "id": "2e5f4132-7f0e-4946-a07f-e192415ecadc",
   "metadata": {},
   "outputs": [
    {
     "name": "stdout",
     "output_type": "stream",
     "text": [
      "[1, 2, 3, 4]\n",
      "<class 'list'>\n"
     ]
    }
   ],
   "source": [
    "b=[1,2,3,4]\n",
    "print(b)\n",
    "print(type(b))"
   ]
  },
  {
   "cell_type": "code",
   "execution_count": 17,
   "id": "7265e4a3-bb6d-4aa8-82d3-9a1d87b70c94",
   "metadata": {},
   "outputs": [
    {
     "name": "stdout",
     "output_type": "stream",
     "text": [
      "Variable   Type     Data/Info\n",
      "-----------------------------\n",
      "a          int      1\n",
      "b          list     n=4\n",
      "c          float    2.4\n",
      "x          int      2\n",
      "y          int      10\n",
      "z          str      c\n"
     ]
    }
   ],
   "source": [
    "%whos"
   ]
  },
  {
   "cell_type": "markdown",
   "id": "b858d06b-6231-4e78-91ae-a57da2d43cd8",
   "metadata": {},
   "source": [
    "# operators "
   ]
  },
  {
   "cell_type": "markdown",
   "id": "530c3201-848f-4229-8a5c-6445ffda8f85",
   "metadata": {},
   "source": [
    "<!-- operators in pyhton are symbols or keywords that perform operation on values or varibale\n",
    "\n",
    "arithmetic +,-,*,/,//,%,**\n",
    "comparison ==,!=\n",
    "logical and or not\n",
    "identity is ,is not check memor loaction\n",
    "membership in in not chek presence in a sequence in a sequence -->"
   ]
  },
  {
   "cell_type": "code",
   "execution_count": 19,
   "id": "9022e9e4-43b9-4407-a3b7-fee2f19218b3",
   "metadata": {},
   "outputs": [
    {
     "name": "stdout",
     "output_type": "stream",
     "text": [
      "11\n"
     ]
    }
   ],
   "source": [
    "# arithematic operation\n",
    "a=5\n",
    "b=6\n",
    "print(a+b)"
   ]
  },
  {
   "cell_type": "code",
   "execution_count": 20,
   "id": "392543f9-f66e-4366-b768-5bd38bb26abb",
   "metadata": {},
   "outputs": [
    {
     "name": "stdout",
     "output_type": "stream",
     "text": [
      "7.3\n"
     ]
    }
   ],
   "source": [
    "a=5\n",
    "b=2.3\n",
    "print(a+b)"
   ]
  },
  {
   "cell_type": "code",
   "execution_count": 21,
   "id": "1d337c46-57bf-4890-9da1-a0be22f77b8e",
   "metadata": {},
   "outputs": [
    {
     "name": "stdout",
     "output_type": "stream",
     "text": [
      "(9+2j)\n"
     ]
    }
   ],
   "source": [
    "a=5+2j\n",
    "b=4\n",
    "print(a+b)"
   ]
  },
  {
   "cell_type": "code",
   "execution_count": 23,
   "id": "44028a64-9f5c-4e9c-9f44-7b8927494db8",
   "metadata": {},
   "outputs": [
    {
     "name": "stdout",
     "output_type": "stream",
     "text": [
      "hello stident\n"
     ]
    }
   ],
   "source": [
    "a=\"hello\"\n",
    "b=\"student\"\n",
    "print(a+ \" \" +b)\n"
   ]
  },
  {
   "cell_type": "code",
   "execution_count": 24,
   "id": "d34419ff-26d1-4226-bd20-1799fd79acba",
   "metadata": {},
   "outputs": [
    {
     "name": "stdout",
     "output_type": "stream",
     "text": [
      "71162028433520217717099884851404495326786614148274137562533191244754226421072922193229393035406290047490322006127486170528820460414671897074184746917638236810663780872933871199771053029074871072046645088603300420278272474373361352870797685329285463690039885441075398107839063255747535400015566353549647882767414182717586010912021318113386679928289227315380064286145450539958069165193638416244911434618495833200180049949\n"
     ]
    }
   ],
   "source": [
    "# exponent\n",
    "a=41256789\n",
    "print(a**55)"
   ]
  },
  {
   "cell_type": "code",
   "execution_count": 25,
   "id": "9401cf6e-7a2a-42f7-9960-1949fedae3fb",
   "metadata": {},
   "outputs": [
    {
     "name": "stdout",
     "output_type": "stream",
     "text": [
      "False\n"
     ]
    }
   ],
   "source": [
    "# boolean\n",
    "\n",
    "a=True\n",
    "b=False\n",
    "print(a and b)"
   ]
  },
  {
   "cell_type": "code",
   "execution_count": null,
   "id": "b4c52d7b-15d3-4ba1-8141-85bc0b5d2744",
   "metadata": {},
   "outputs": [],
   "source": []
  },
  {
   "cell_type": "code",
   "execution_count": 28,
   "id": "92791b07-2611-487b-bb88-042cf87b126d",
   "metadata": {},
   "outputs": [
    {
     "name": "stdout",
     "output_type": "stream",
     "text": [
      "10\n",
      "5\n"
     ]
    }
   ],
   "source": [
    "x=5 #globaal\n",
    "def fun():\n",
    "    x=10\n",
    "    print(x)\n",
    "fun()\n",
    "print(x)"
   ]
  },
  {
   "cell_type": "code",
   "execution_count": 29,
   "id": "fb974642-79b6-4346-8f98-924c13432d9c",
   "metadata": {},
   "outputs": [
    {
     "name": "stdout",
     "output_type": "stream",
     "text": [
      "3\n"
     ]
    }
   ],
   "source": [
    "x=5\n",
    "x=3\n",
    "print(x)"
   ]
  },
  {
   "cell_type": "code",
   "execution_count": 2,
   "id": "46299409-407e-4b90-8812-9b3e4b70da5c",
   "metadata": {},
   "outputs": [
    {
     "name": "stdin",
     "output_type": "stream",
     "text": [
      "Hi, how can I help you?  name\n"
     ]
    },
    {
     "name": "stdout",
     "output_type": "stream",
     "text": [
      "I'm a simple chatbot.\n"
     ]
    }
   ],
   "source": [
    "user = input(\"Hi, how can I help you? \")\n",
    "\n",
    "if \"hello\" in user.lower():\n",
    "    print(\"Hello! Nice to meet you.\")\n",
    "elif \"name\" in user.lower():\n",
    "    print(\"I'm a simple chatbot.\")\n",
    "else:\n",
    "    print(\"Sorry, I didn't understand.\")\n"
   ]
  },
  {
   "cell_type": "code",
   "execution_count": 1,
   "id": "e981ac46-e70c-4e52-ade3-5e472ae7399c",
   "metadata": {},
   "outputs": [
    {
     "name": "stdin",
     "output_type": "stream",
     "text": [
      "Enter your birth year:  2005\n"
     ]
    },
    {
     "name": "stdout",
     "output_type": "stream",
     "text": [
      "Your age is: 20\n"
     ]
    }
   ],
   "source": [
    "from datetime import date\n",
    "\n",
    "birth_year = int(input(\"Enter your birth year: \"))\n",
    "current_year = date.today().year\n",
    "age = current_year - birth_year\n",
    "\n",
    "print(\"Your age is:\", age)\n"
   ]
  },
  {
   "cell_type": "code",
   "execution_count": null,
   "id": "0b8c6a60-e709-4ad4-9849-668fabad57d3",
   "metadata": {},
   "outputs": [],
   "source": []
  }
 ],
 "metadata": {
  "kernelspec": {
   "display_name": "Python 3 (ipykernel)",
   "language": "python",
   "name": "python3"
  },
  "language_info": {
   "codemirror_mode": {
    "name": "ipython",
    "version": 3
   },
   "file_extension": ".py",
   "mimetype": "text/x-python",
   "name": "python",
   "nbconvert_exporter": "python",
   "pygments_lexer": "ipython3",
   "version": "3.13.3"
  }
 },
 "nbformat": 4,
 "nbformat_minor": 5
}
