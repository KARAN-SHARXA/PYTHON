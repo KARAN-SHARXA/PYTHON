{
 "cells": [
  {
   "cell_type": "markdown",
   "id": "6e61c191-4eed-4113-950b-9b265bee2fbe",
   "metadata": {},
   "source": [
    "# string"
   ]
  },
  {
   "cell_type": "raw",
   "id": "bde5b808-5ed7-4fa2-8ba1-7c9dcc2a7a75",
   "metadata": {},
   "source": [
    "upper()\n",
    "lower()\n",
    "replace(\"bye\",\"hy\")\n",
    "find(a)\n",
    "indexing and slicing"
   ]
  },
  {
   "cell_type": "code",
   "execution_count": 2,
   "id": "ee4ecbb9-3de8-4893-a8ea-f72b7979bd50",
   "metadata": {},
   "outputs": [
    {
     "name": "stdout",
     "output_type": "stream",
     "text": [
      "hello\n",
      "<class 'str'>\n"
     ]
    }
   ],
   "source": [
    "a=\"hello\"\n",
    "print(a)\n",
    "print(type(a))"
   ]
  },
  {
   "cell_type": "code",
   "execution_count": 3,
   "id": "f68ce2fb-a71b-489c-9046-dd365b0f0d6b",
   "metadata": {},
   "outputs": [
    {
     "name": "stdout",
     "output_type": "stream",
     "text": [
      "India, officially the Republic of India,[j][20] is a country in South Asia. It is the seventh-largest country by area; the most populous country since 2023;[21] and, since its independence in 1947, the world's most populous democracy.[22][23][24] Bounded by the Indian Ocean on the south, the Arabian Sea on the southwest, and the Bay of Bengal on the southeast, it shares land borders with Pakistan to the west;[k] China, Nepal, and Bhutan to the north; and Bangladesh and Myanmar to the east. In the Indian Ocean, India is near Sri Lanka and the Maldives; its Andaman and Nicobar Islands share a maritime border with Thailand, Myanmar, and Indonesia.\n",
      "\n"
     ]
    }
   ],
   "source": [
    "b=\"\"\"India, officially the Republic of India,[j][20] is a country in South Asia. It is the seventh-largest country by area; the most populous country since 2023;[21] and, since its independence in 1947, the world's most populous democracy.[22][23][24] Bounded by the Indian Ocean on the south, the Arabian Sea on the southwest, and the Bay of Bengal on the southeast, it shares land borders with Pakistan to the west;[k] China, Nepal, and Bhutan to the north; and Bangladesh and Myanmar to the east. In the Indian Ocean, India is near Sri Lanka and the Maldives; its Andaman and Nicobar Islands share a maritime border with Thailand, Myanmar, and Indonesia.\n",
    "\"\"\"\n",
    "print(b)"
   ]
  },
  {
   "cell_type": "code",
   "execution_count": 10,
   "id": "cc084600-5682-45cb-ac96-cae9e6e32ce6",
   "metadata": {},
   "outputs": [
    {
     "name": "stdout",
     "output_type": "stream",
     "text": [
      " \n",
      "n\n",
      "hello student\n",
      "llo studen\n",
      "tneduts olleh\n"
     ]
    }
   ],
   "source": [
    "#indexing\n",
    "\n",
    "a=\"hello student\"\n",
    "print(a[5])\n",
    "print(a[11])\n",
    "print(a[0:])\n",
    "print(a[-11:-1])\n",
    "print(a[::-1])\n"
   ]
  },
  {
   "cell_type": "code",
   "execution_count": 11,
   "id": "22225ea7-cfe7-401b-b784-eb01d7c2a210",
   "metadata": {},
   "outputs": [
    {
     "name": "stdout",
     "output_type": "stream",
     "text": [
      "hello\n"
     ]
    }
   ],
   "source": [
    "#slicing of strings\n",
    "\n",
    "s=\"hello student how are you\"\n",
    "print(s[0:5])"
   ]
  },
  {
   "cell_type": "code",
   "execution_count": 13,
   "id": "9b79b5d6-bbbb-446c-a6c3-8df1c79e4654",
   "metadata": {},
   "outputs": [
    {
     "name": "stdout",
     "output_type": "stream",
     "text": [
      "hlsdtoa\n"
     ]
    }
   ],
   "source": [
    "s=\"hello student how are you ?\"\n",
    "print(s[0:20:3])\n"
   ]
  },
  {
   "cell_type": "code",
   "execution_count": 14,
   "id": "b97f4e92-48c6-4ac7-bf96-ca6ef64b40de",
   "metadata": {},
   "outputs": [
    {
     "name": "stdout",
     "output_type": "stream",
     "text": [
      "27\n"
     ]
    }
   ],
   "source": [
    "print(len(s))"
   ]
  },
  {
   "cell_type": "code",
   "execution_count": 16,
   "id": "1cd07238-3f78-4bdc-9ac3-adaf13d3c57e",
   "metadata": {},
   "outputs": [
    {
     "name": "stdout",
     "output_type": "stream",
     "text": [
      "HELLO HOW ARE YOU\n"
     ]
    }
   ],
   "source": [
    "#upper method\n",
    "a=\"hello how are you\"\n",
    "print(a.upper())\n"
   ]
  },
  {
   "cell_type": "code",
   "execution_count": 17,
   "id": "4ebdacce-bc1a-47b6-9bf8-f459387d458e",
   "metadata": {},
   "outputs": [
    {
     "name": "stdout",
     "output_type": "stream",
     "text": [
      "hello i am karan shrama\n"
     ]
    }
   ],
   "source": [
    "#lower methiod\n",
    "b=\"HELLO I AM KARAN SHRAMA\"\n",
    "print(b.lower())"
   ]
  },
  {
   "cell_type": "code",
   "execution_count": 19,
   "id": "0b7cfdb5-63a2-4792-b3b7-a362993db252",
   "metadata": {},
   "outputs": [
    {
     "name": "stdout",
     "output_type": "stream",
     "text": [
      "hello how are bye\n"
     ]
    }
   ],
   "source": [
    "#replaice function\n",
    "a=\"hello how are you\"\n",
    "print(a.replace(\"you\",\"bye\"))"
   ]
  },
  {
   "cell_type": "code",
   "execution_count": 21,
   "id": "175bb904-2bb1-4de8-86c9-f7b3b9ab4ba4",
   "metadata": {},
   "outputs": [
    {
     "name": "stdout",
     "output_type": "stream",
     "text": [
      "hello world\n",
      "hello student\n"
     ]
    }
   ],
   "source": [
    "b=\"hello world\"\n",
    "print(b)\n",
    "print(b.replace(\"world\",\"student\"))"
   ]
  },
  {
   "cell_type": "code",
   "execution_count": 22,
   "id": "a0802fa3-1771-424a-86ce-6b59ca792926",
   "metadata": {},
   "outputs": [
    {
     "name": "stdout",
     "output_type": "stream",
     "text": [
      "10\n"
     ]
    }
   ],
   "source": [
    "# find method\n",
    "a=\"pyhton is great\"\n",
    "b=a.find(\"g\")\n",
    "print(b)"
   ]
  }
 ],
 "metadata": {
  "kernelspec": {
   "display_name": "Python 3 (ipykernel)",
   "language": "python",
   "name": "python3"
  },
  "language_info": {
   "codemirror_mode": {
    "name": "ipython",
    "version": 3
   },
   "file_extension": ".py",
   "mimetype": "text/x-python",
   "name": "python",
   "nbconvert_exporter": "python",
   "pygments_lexer": "ipython3",
   "version": "3.13.3"
  }
 },
 "nbformat": 4,
 "nbformat_minor": 5
}
